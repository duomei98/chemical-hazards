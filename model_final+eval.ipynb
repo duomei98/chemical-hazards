{
 "cells": [
  {
   "cell_type": "markdown",
   "metadata": {
    "id": "-Igz-UobUtxQ"
   },
   "source": [
    "#heading"
   ]
  },
  {
   "cell_type": "code",
   "execution_count": 8,
   "metadata": {
    "colab": {
     "base_uri": "https://localhost:8080/"
    },
    "id": "wQ3iz9FOM1ME",
    "outputId": "cef68c47-bdc1-44d8-d529-e4edb0edaca1"
   },
   "outputs": [
    {
     "name": "stdout",
     "output_type": "stream",
     "text": [
      "fatal: could not create work tree dir 'chemical-hazards': Permission denied\n"
     ]
    }
   ],
   "source": [
    "!git clone https://github.com/duomei98/chemical-hazards.git"
   ]
  },
  {
   "cell_type": "code",
   "execution_count": 11,
   "metadata": {
    "colab": {
     "base_uri": "https://localhost:8080/"
    },
    "id": "wQ3iz9FOM1ME",
    "outputId": "cef68c47-bdc1-44d8-d529-e4edb0edaca1"
   },
   "outputs": [
    {
     "name": "stdout",
     "output_type": "stream",
     "text": [
      "\u001b[33mWARNING: The directory '/home/jovyan/.cache/pip' or its parent directory is not owned or is not writable by the current user. The cache has been disabled. Check the permissions and owner of that directory. If executing pip with sudo, you should use sudo's -H flag.\u001b[0m\u001b[33m\n",
      "\u001b[0mDefaulting to user installation because normal site-packages is not writeable\n",
      "Collecting keras_tuner\n",
      "  Downloading keras_tuner-1.4.7-py3-none-any.whl.metadata (5.4 kB)\n",
      "Requirement already satisfied: keras in ./.local/lib/python3.11/site-packages (from keras_tuner) (3.4.1)\n",
      "Requirement already satisfied: packaging in /opt/conda/lib/python3.11/site-packages (from keras_tuner) (23.2)\n",
      "Requirement already satisfied: requests in /opt/conda/lib/python3.11/site-packages (from keras_tuner) (2.31.0)\n",
      "Collecting kt-legacy (from keras_tuner)\n",
      "  Downloading kt_legacy-1.0.5-py3-none-any.whl.metadata (221 bytes)\n",
      "Requirement already satisfied: absl-py in ./.local/lib/python3.11/site-packages (from keras->keras_tuner) (2.1.0)\n",
      "Requirement already satisfied: numpy in /opt/conda/lib/python3.11/site-packages (from keras->keras_tuner) (1.24.4)\n",
      "Requirement already satisfied: rich in ./.local/lib/python3.11/site-packages (from keras->keras_tuner) (13.7.1)\n",
      "Requirement already satisfied: namex in ./.local/lib/python3.11/site-packages (from keras->keras_tuner) (0.0.8)\n",
      "Requirement already satisfied: h5py in /opt/conda/lib/python3.11/site-packages (from keras->keras_tuner) (3.10.0)\n",
      "Requirement already satisfied: optree in ./.local/lib/python3.11/site-packages (from keras->keras_tuner) (0.12.1)\n",
      "Requirement already satisfied: ml-dtypes in ./.local/lib/python3.11/site-packages (from keras->keras_tuner) (0.4.0)\n",
      "Requirement already satisfied: charset-normalizer<4,>=2 in /opt/conda/lib/python3.11/site-packages (from requests->keras_tuner) (3.3.0)\n",
      "Requirement already satisfied: idna<4,>=2.5 in /opt/conda/lib/python3.11/site-packages (from requests->keras_tuner) (3.4)\n",
      "Requirement already satisfied: urllib3<3,>=1.21.1 in /opt/conda/lib/python3.11/site-packages (from requests->keras_tuner) (2.0.7)\n",
      "Requirement already satisfied: certifi>=2017.4.17 in /opt/conda/lib/python3.11/site-packages (from requests->keras_tuner) (2024.2.2)\n",
      "Requirement already satisfied: typing-extensions>=4.5.0 in /opt/conda/lib/python3.11/site-packages (from optree->keras->keras_tuner) (4.8.0)\n",
      "Requirement already satisfied: markdown-it-py>=2.2.0 in ./.local/lib/python3.11/site-packages (from rich->keras->keras_tuner) (3.0.0)\n",
      "Requirement already satisfied: pygments<3.0.0,>=2.13.0 in /opt/conda/lib/python3.11/site-packages (from rich->keras->keras_tuner) (2.16.1)\n",
      "Requirement already satisfied: mdurl~=0.1 in ./.local/lib/python3.11/site-packages (from markdown-it-py>=2.2.0->rich->keras->keras_tuner) (0.1.2)\n",
      "Downloading keras_tuner-1.4.7-py3-none-any.whl (129 kB)\n",
      "\u001b[2K   \u001b[90m━━━━━━━━━━━━━━━━━━━━━━━━━━━━━━━━━━━━━━━━\u001b[0m \u001b[32m129.1/129.1 kB\u001b[0m \u001b[31m15.5 MB/s\u001b[0m eta \u001b[36m0:00:00\u001b[0m\n",
      "\u001b[?25hDownloading kt_legacy-1.0.5-py3-none-any.whl (9.6 kB)\n",
      "Installing collected packages: kt-legacy, keras_tuner\n",
      "Successfully installed keras_tuner-1.4.7 kt-legacy-1.0.5\n",
      "Note: you may need to restart the kernel to use updated packages.\n"
     ]
    }
   ],
   "source": [
    "#why doesn't the sdsc have tensorflow/keras/\n",
    "%pip install keras_tuner"
   ]
  },
  {
   "cell_type": "code",
   "execution_count": 1,
   "metadata": {
    "colab": {
     "base_uri": "https://localhost:8080/"
    },
    "id": "wQ3iz9FOM1ME",
    "outputId": "cef68c47-bdc1-44d8-d529-e4edb0edaca1"
   },
   "outputs": [
    {
     "name": "stdout",
     "output_type": "stream",
     "text": [
      "/home/yxie10\n"
     ]
    }
   ],
   "source": [
    "!pwd"
   ]
  },
  {
   "cell_type": "code",
   "execution_count": 2,
   "metadata": {
    "id": "z8cUhCzVNBmY"
   },
   "outputs": [],
   "source": [
    "#import tensorflow as tf\n",
    "import pandas as pd\n",
    "import numpy as np\n",
    "import keras\n",
    "import re\n",
    "from sklearn.model_selection import train_test_split\n",
    "from keras.models import Sequential\n",
    "from keras.layers import *\n",
    "from sklearn.metrics import accuracy_score\n",
    "import keras_tuner\n",
    "\n",
    "def precision(y, yhat):\n",
    "    if len([x for x in yhat if x == 1]) == 0:\n",
    "        return 0\n",
    "    ytot = np.column_stack((y, yhat))\n",
    "    return len([x for x in ytot if x[0] == 1 and x[0] == x[1]])/len([x for x in yhat if x == 1])\n",
    "\n",
    "def recall(y, yhat):\n",
    "    ytot = np.column_stack((y, yhat))\n",
    "    return len([x for x in ytot if x[0] == 1 and x[0] == x[1]])/len([x for x in y if x == 1])\n",
    "\n",
    "def f1(y, yhat):\n",
    "    return 2*precision(y,yhat)*recall(y,yhat)/(precision(y,yhat)+recall(y,yhat))"
   ]
  },
  {
   "cell_type": "code",
   "execution_count": 2,
   "metadata": {
    "colab": {
     "base_uri": "https://localhost:8080/"
    },
    "id": "aU--YWVIN9n9",
    "outputId": "6ae834da-2215-4e95-8bb3-960e4edae7eb"
   },
   "outputs": [
    {
     "name": "stdout",
     "output_type": "stream",
     "text": [
      "\u001b[33mWARNING: The directory '/home/jovyan/.cache/pip' or its parent directory is not owned or is not writable by the current user. The cache has been disabled. Check the permissions and owner of that directory. If executing pip with sudo, you should use sudo's -H flag.\u001b[0m\u001b[33m\n",
      "\u001b[0mDefaulting to user installation because normal site-packages is not writeable\n",
      "Requirement already satisfied: deepchem in ./.local/lib/python3.11/site-packages (2.8.0)\n",
      "Requirement already satisfied: joblib in /opt/conda/lib/python3.11/site-packages (from deepchem) (1.3.2)\n",
      "Requirement already satisfied: numpy>=1.21 in /opt/conda/lib/python3.11/site-packages (from deepchem) (1.24.4)\n",
      "Requirement already satisfied: pandas in /opt/conda/lib/python3.11/site-packages (from deepchem) (2.0.3)\n",
      "Requirement already satisfied: scikit-learn in /opt/conda/lib/python3.11/site-packages (from deepchem) (1.3.1)\n",
      "Requirement already satisfied: sympy in /opt/conda/lib/python3.11/site-packages (from deepchem) (1.12)\n",
      "Requirement already satisfied: scipy>=1.10.1 in /opt/conda/lib/python3.11/site-packages (from deepchem) (1.11.3)\n",
      "Requirement already satisfied: rdkit in ./.local/lib/python3.11/site-packages (from deepchem) (2024.3.3)\n",
      "Requirement already satisfied: python-dateutil>=2.8.2 in /opt/conda/lib/python3.11/site-packages (from pandas->deepchem) (2.8.2)\n",
      "Requirement already satisfied: pytz>=2020.1 in /opt/conda/lib/python3.11/site-packages (from pandas->deepchem) (2023.3.post1)\n",
      "Requirement already satisfied: tzdata>=2022.1 in /opt/conda/lib/python3.11/site-packages (from pandas->deepchem) (2023.3)\n",
      "Requirement already satisfied: Pillow in /opt/conda/lib/python3.11/site-packages (from rdkit->deepchem) (10.1.0)\n",
      "Requirement already satisfied: threadpoolctl>=2.0.0 in /opt/conda/lib/python3.11/site-packages (from scikit-learn->deepchem) (3.2.0)\n",
      "Requirement already satisfied: mpmath>=0.19 in /opt/conda/lib/python3.11/site-packages (from sympy->deepchem) (1.3.0)\n",
      "Requirement already satisfied: six>=1.5 in /opt/conda/lib/python3.11/site-packages (from python-dateutil>=2.8.2->pandas->deepchem) (1.16.0)\n"
     ]
    },
    {
     "name": "stderr",
     "output_type": "stream",
     "text": [
      "No normalization for SPS. Feature removed!\n",
      "No normalization for AvgIpc. Feature removed!\n",
      "There was a problem when trying to write in your cache folder (/home/jovyan/.cache/huggingface/hub). You should set the environment variable TRANSFORMERS_CACHE to a writable directory.\n"
     ]
    },
    {
     "name": "stdout",
     "output_type": "stream",
     "text": [
      "WARNING:tensorflow:From /home/yxie10/.local/lib/python3.11/site-packages/tensorflow/python/util/deprecation.py:588: calling function (from tensorflow.python.eager.polymorphic_function.polymorphic_function) with experimental_relax_shapes is deprecated and will be removed in a future version.\n",
      "Instructions for updating:\n",
      "experimental_relax_shapes is deprecated, use reduce_retracing instead\n"
     ]
    },
    {
     "name": "stderr",
     "output_type": "stream",
     "text": [
      "Skipped loading modules with pytorch-geometric dependency, missing a dependency. No module named 'torch_geometric'\n",
      "Skipped loading modules with pytorch-geometric dependency, missing a dependency. cannot import name 'DMPNN' from 'deepchem.models.torch_models' (/home/yxie10/.local/lib/python3.11/site-packages/deepchem/models/torch_models/__init__.py)\n",
      "Matplotlib created a temporary cache directory at /scratch/yxie10/job_32605241/matplotlib-rtj3drat because the default path (/home/jovyan/.cache/matplotlib) is not a writable directory; it is highly recommended to set the MPLCONFIGDIR environment variable to a writable directory, in particular to speed up the import of Matplotlib and to better support multiprocessing.\n",
      "Skipped loading some Jax models, missing a dependency. No module named 'jax'\n"
     ]
    }
   ],
   "source": [
    "!pip install deepchem\n",
    "from deepchem.feat.smiles_tokenizer import BasicSmilesTokenizer\n",
    "tokenizer = BasicSmilesTokenizer()"
   ]
  },
  {
   "cell_type": "code",
   "execution_count": 21,
   "metadata": {
    "colab": {
     "base_uri": "https://localhost:8080/",
     "height": 496
    },
    "id": "vi3dvwJ9NYUm",
    "outputId": "216e429f-3025-4ce6-8b85-3fc5620666bb"
   },
   "outputs": [],
   "source": [
    "overalldf = pd.read_csv('final-data-csv.csv')\n",
    "#overalldf"
   ]
  },
  {
   "cell_type": "code",
   "execution_count": 22,
   "metadata": {
    "id": "RjpIa3FLN1O1"
   },
   "outputs": [],
   "source": [
    "overalldf['len'] = overalldf['SMILES'].apply(lambda x: len(tokenizer.tokenize(x)))"
   ]
  },
  {
   "cell_type": "markdown",
   "metadata": {
    "id": "-V3EuWLcN0C2"
   },
   "source": [
    "We're going to be training on molecules with SMILES string length of 100 tokens or less, which roughly corresponds to the ~1 kilodalton size of a \"small molecule\" and should cover most commonly used reagents."
   ]
  },
  {
   "cell_type": "code",
   "execution_count": 23,
   "metadata": {
    "id": "PbYysspLNza5"
   },
   "outputs": [],
   "source": [
    "shortdf = overalldf[overalldf['len'] <= 100]\n",
    "del overalldf"
   ]
  },
  {
   "cell_type": "markdown",
   "metadata": {
    "id": "KbMJl_kkNnEj"
   },
   "source": [
    "generating a mapping to reduce the tokens later:"
   ]
  },
  {
   "cell_type": "code",
   "execution_count": 39,
   "metadata": {},
   "outputs": [
    {
     "name": "stdout",
     "output_type": "stream",
     "text": [
      "Cloning into 'SMILES-enumeration'...\n",
      "remote: Enumerating objects: 80, done.\u001b[K\n",
      "remote: Counting objects: 100% (31/31), done.\u001b[K\n",
      "remote: Compressing objects: 100% (24/24), done.\u001b[K\n",
      "remote: Total 80 (delta 9), reused 24 (delta 7), pack-reused 49\u001b[K\n",
      "Receiving objects: 100% (80/80), 356.97 KiB | 3.08 MiB/s, done.\n",
      "Resolving deltas: 100% (26/26), done.\n"
     ]
    }
   ],
   "source": [
    "!git clone https://github.com/EBjerrum/SMILES-enumeration.git"
   ]
  },
  {
   "cell_type": "code",
   "execution_count": 14,
   "metadata": {},
   "outputs": [
    {
     "name": "stdout",
     "output_type": "stream",
     "text": [
      "/home/yxie10/SMILES-enumeration\n"
     ]
    }
   ],
   "source": [
    "%cd SMILES-enumeration"
   ]
  },
  {
   "cell_type": "code",
   "execution_count": 24,
   "metadata": {},
   "outputs": [],
   "source": [
    "from SmilesEnumerator import SmilesEnumerator\n",
    "sme = SmilesEnumerator()\n",
    "shortdf = shortdf.drop(columns=['len','CID'])\n"
   ]
  },
  {
   "cell_type": "code",
   "execution_count": 16,
   "metadata": {},
   "outputs": [
    {
     "data": {
      "text/plain": [
       "explosive                  207\n",
       "flammable                13258\n",
       "oxidizer                   434\n",
       "pressurized                297\n",
       "corrosive                34656\n",
       "toxic                    15080\n",
       "irritant                185519\n",
       "health hazard            14979\n",
       "environmental hazard     17703\n",
       "dtype: int64"
      ]
     },
     "execution_count": 16,
     "metadata": {},
     "output_type": "execute_result"
    }
   ],
   "source": [
    "np.sum(shortdf.drop(columns=['SMILES']))"
   ]
  },
  {
   "cell_type": "markdown",
   "metadata": {},
   "source": [
    "We're going to add alternate smiles for the explosive, oxidizer, and pressurized hazard classes."
   ]
  },
  {
   "cell_type": "code",
   "execution_count": null,
   "metadata": {},
   "outputs": [],
   "source": [
    "#repeats is the number of times we attempt to add another smile\n",
    "def addSmiles(hazards, repeats, shortdf):\n",
    "    smiles = set()\n",
    "    newdf = [shortdf]\n",
    "    for hazard in hazards:\n",
    "        print(hazard.upper(), ':\\n')\n",
    "        comps = shortdf[shortdf[hazard] == 1]\n",
    "        smiles.update(comps['SMILES'])\n",
    "        for comp in comps.iterrows():\n",
    "            #print(comp[1][0])     #uncomment to see which smiles is ducking up the code\n",
    "            try: #some SMILES are not compatible with the smiles randomizer, we'll ignore those\n",
    "                alt = sme.randomize_smiles(comp[1][0])\n",
    "            except:\n",
    "                print(comp[1][0], \"isn't quite valid\")\n",
    "                continue;\n",
    "            for i in range(repeats):\n",
    "                #print(np.transpose(np.array(comp[1].to_numpy())))\n",
    "                row = pd.DataFrame(np.transpose(comp[1].to_numpy()[:,np.newaxis]), columns=comp[1].index)\n",
    "                #return row\n",
    "                #print(comp[1][0])\n",
    "                alt = sme.randomize_smiles(comp[1][0])\n",
    "                if alt not in smiles:\n",
    "                    smiles.add(alt)\n",
    "                    #print(alt)\n",
    "                    row['SMILES']=alt\n",
    "                    newdf.append(row)\n",
    "    return pd.concat(newdf, axis=0)\n",
    "\n",
    "shortdf = addSmiles(['explosive', 'oxidizer', 'pressurized'], 100, shortdf)\n",
    "shortdf"
   ]
  },
  {
   "cell_type": "code",
   "execution_count": 27,
   "metadata": {},
   "outputs": [],
   "source": [
    "shortdf.to_csv(path_or_buf='../augmented-final-data.csv')"
   ]
  },
  {
   "cell_type": "markdown",
   "metadata": {
    "id": "KzyY5voAPPg9"
   },
   "source": [
    "converting the SMILES into a one-hot matrix"
   ]
  },
  {
   "cell_type": "code",
   "execution_count": 28,
   "metadata": {},
   "outputs": [
    {
     "data": {
      "text/plain": [
       "explosive                10554\n",
       "flammable                18120\n",
       "oxidizer                 19162\n",
       "pressurized               2126\n",
       "corrosive                42727\n",
       "toxic                    19888\n",
       "irritant                208832\n",
       "health hazard            23378\n",
       "environmental hazard     25957\n",
       "dtype: object"
      ]
     },
     "execution_count": 28,
     "metadata": {},
     "output_type": "execute_result"
    }
   ],
   "source": [
    "np.sum(shortdf.drop(columns=['SMILES']))"
   ]
  },
  {
   "cell_type": "code",
   "execution_count": 29,
   "metadata": {},
   "outputs": [],
   "source": [
    "shortdf['len'] = shortdf['SMILES'].apply(lambda x: len(tokenizer.tokenize(x)))"
   ]
  },
  {
   "cell_type": "code",
   "execution_count": 30,
   "metadata": {},
   "outputs": [
    {
     "data": {
      "text/html": [
       "<div>\n",
       "<style scoped>\n",
       "    .dataframe tbody tr th:only-of-type {\n",
       "        vertical-align: middle;\n",
       "    }\n",
       "\n",
       "    .dataframe tbody tr th {\n",
       "        vertical-align: top;\n",
       "    }\n",
       "\n",
       "    .dataframe thead th {\n",
       "        text-align: right;\n",
       "    }\n",
       "</style>\n",
       "<table border=\"1\" class=\"dataframe\">\n",
       "  <thead>\n",
       "    <tr style=\"text-align: right;\">\n",
       "      <th></th>\n",
       "      <th>len</th>\n",
       "    </tr>\n",
       "  </thead>\n",
       "  <tbody>\n",
       "    <tr>\n",
       "      <th>count</th>\n",
       "      <td>248584.000000</td>\n",
       "    </tr>\n",
       "    <tr>\n",
       "      <th>mean</th>\n",
       "      <td>31.790023</td>\n",
       "    </tr>\n",
       "    <tr>\n",
       "      <th>std</th>\n",
       "      <td>16.325799</td>\n",
       "    </tr>\n",
       "    <tr>\n",
       "      <th>min</th>\n",
       "      <td>1.000000</td>\n",
       "    </tr>\n",
       "    <tr>\n",
       "      <th>25%</th>\n",
       "      <td>21.000000</td>\n",
       "    </tr>\n",
       "    <tr>\n",
       "      <th>50%</th>\n",
       "      <td>27.000000</td>\n",
       "    </tr>\n",
       "    <tr>\n",
       "      <th>75%</th>\n",
       "      <td>39.000000</td>\n",
       "    </tr>\n",
       "    <tr>\n",
       "      <th>max</th>\n",
       "      <td>100.000000</td>\n",
       "    </tr>\n",
       "  </tbody>\n",
       "</table>\n",
       "</div>"
      ],
      "text/plain": [
       "                 len\n",
       "count  248584.000000\n",
       "mean       31.790023\n",
       "std        16.325799\n",
       "min         1.000000\n",
       "25%        21.000000\n",
       "50%        27.000000\n",
       "75%        39.000000\n",
       "max       100.000000"
      ]
     },
     "execution_count": 30,
     "metadata": {},
     "output_type": "execute_result"
    }
   ],
   "source": [
    "shortdf.describe()"
   ]
  },
  {
   "cell_type": "code",
   "execution_count": 37,
   "metadata": {
    "id": "3n8k3vcoNsfo"
   },
   "outputs": [],
   "source": [
    "tokens = set()\n",
    "for smile in shortdf['SMILES']:\n",
    "  tokens.update(tokenizer.tokenize(smile))"
   ]
  },
  {
   "cell_type": "code",
   "execution_count": null,
   "metadata": {
    "id": "WXoU1p23Nf3m"
   },
   "outputs": [],
   "source": [
    "#dictionary of ions: raw tokens corresponding to final ion/ligand/whatever i'm not a chem person category\n",
    "# ion: charge (n/+/-) + type (metal/organic)\n",
    "iondict={}\n",
    "organics = ['B', 'Br', 'C', 'Cl', 'F', 'H', 'I', 'N', 'O','P','S']\n",
    "for token in tokens:\n",
    "  if token[0] == '[' and token[-1] == ']':\n",
    "    if token[1:-1] in organics or token[1:-1].upper() in organics:\n",
    "      continue\n",
    "    mo = 'o' if re.search('[a-zA-Z][a-z]?', token)[0] in organics or re.search('[a-zA-Z][a-z]?', token)[0].upper() in organics else 'm';\n",
    "    charge = '-' if token.find('-') >= 0 else '+' if token.find('+') >= 0 else 'n'\n",
    "    iondict[token] = charge+mo\n",
    "iondict"
   ]
  },
  {
   "cell_type": "code",
   "execution_count": 46,
   "metadata": {
    "id": "IWOz-13PPJNH"
   },
   "outputs": [],
   "source": [
    "#obtaining the data we'll be directly using for our model\n",
    "# input: smiles converted into a vector of one-hot encoded (ish) vector\n",
    "type2idx = {  # key:\n",
    "    'nm': 0,  # neutral metal\n",
    "    '+m': 1,  # positively charged metal\n",
    "    '-m': 2,  # negatively charged metal\n",
    "    'no': 3,  # neutral organic\n",
    "    '+o': 4,  # positively charged organic\n",
    "    '-o': 5   # negatively charged organic\n",
    "}\n",
    "def untoken(token):\n",
    "  tok = np.zeros(22);\n",
    "  #if ion:\n",
    "  if token[0] == '[':\n",
    "    if token[1:-1] in organics:\n",
    "      tok[organics.index(token[1:-1])+11] = 1\n",
    "      return tok\n",
    "    iontype = iondict[token]\n",
    "    tok[type2idx[iontype]] = 1;\n",
    "  elif token == ')':\n",
    "    tok[6] = -1\n",
    "  elif token == '(':\n",
    "    tok[6] = 1\n",
    "  elif token.isdigit():\n",
    "    tok[7] = float(token)/10\n",
    "  elif token == '#':\n",
    "    tok[8] = 1\n",
    "  elif token == '=':\n",
    "    tok[9] = 1\n",
    "  elif token == '.' or token == '-':\n",
    "    tok[10] = 1\n",
    "  else:\n",
    "    if token in organics:\n",
    "        tok[organics.index(token)+11] = 1\n",
    "    else:\n",
    "        tok[organics.index(token.upper())+11] = 1\n",
    "  return tok\n",
    "\n",
    "def unsmile(smile):\n",
    "  vec = np.zeros(shape=(100,22))\n",
    "  tokens = tokenizer.tokenize(smile)\n",
    "  for i in range(len(tokens)):\n",
    "    vec[i] = untoken(tokens[i])\n",
    "  return vec\n",
    "\n",
    "smilesnp = np.zeros(shape=(len(shortdf['SMILES']), 100, 22))\n",
    "i=0\n",
    "for smile in shortdf['SMILES']:\n",
    "  smilesnp[i] = unsmile(smile)\n",
    "  i +=1"
   ]
  },
  {
   "cell_type": "code",
   "execution_count": 4,
   "metadata": {
    "id": "tTAEIXgPPjr4"
   },
   "outputs": [
    {
     "data": {
      "text/plain": [
       "explosive                10554\n",
       "flammable                18120\n",
       "oxidizer                 19162\n",
       "pressurized               2126\n",
       "corrosive                42727\n",
       "toxic                    19888\n",
       "irritant                208832\n",
       "health hazard            23378\n",
       "environmental hazard     25957\n",
       "dtype: int64"
      ]
     },
     "execution_count": 4,
     "metadata": {},
     "output_type": "execute_result"
    }
   ],
   "source": [
    "y = shortdf.drop(columns=['SMILES','Unnamed: 0'])\n",
    "np.sum(y)"
   ]
  },
  {
   "cell_type": "code",
   "execution_count": 47,
   "metadata": {},
   "outputs": [
    {
     "data": {
      "text/plain": [
       "(248584, 100, 22)"
      ]
     },
     "execution_count": 47,
     "metadata": {},
     "output_type": "execute_result"
    }
   ],
   "source": [
    "smilesnp.shape"
   ]
  },
  {
   "cell_type": "code",
   "execution_count": 49,
   "metadata": {},
   "outputs": [],
   "source": [
    "np.save('../aug-smilesnp.npy', smilesnp)"
   ]
  },
  {
   "cell_type": "code",
   "execution_count": 50,
   "metadata": {
    "id": "MVaVJ9m4QK8e"
   },
   "outputs": [],
   "source": [
    "del tokens\n",
    "del shortdf"
   ]
  },
  {
   "cell_type": "code",
   "execution_count": 3,
   "metadata": {},
   "outputs": [],
   "source": [
    "#loading from before...\n",
    "shortdf = pd.read_csv('augmented-final-data.csv')\n",
    "smilesnp = np.load('aug-smilesnp.npy')\n"
   ]
  },
  {
   "cell_type": "code",
   "execution_count": 5,
   "metadata": {
    "id": "pTWLBX5bQJLx"
   },
   "outputs": [],
   "source": [
    "X_train, X_test, y_train, y_test = train_test_split(smilesnp, y, test_size=0.2, random_state=21)"
   ]
  },
  {
   "cell_type": "markdown",
   "metadata": {
    "id": "lsW6jVgtPkDW"
   },
   "source": [
    "Model building and training time:\n",
    "(and deleting extra variables to save ram because colab hates me :( )"
   ]
  },
  {
   "cell_type": "code",
   "execution_count": 7,
   "metadata": {},
   "outputs": [
    {
     "data": {
      "text/plain": [
       "(198867, 100, 22)"
      ]
     },
     "execution_count": 7,
     "metadata": {},
     "output_type": "execute_result"
    }
   ],
   "source": [
    "X_train.shape"
   ]
  },
  {
   "cell_type": "code",
   "execution_count": 6,
   "metadata": {
    "id": "ec5OiFnOR40b"
   },
   "outputs": [
    {
     "name": "stderr",
     "output_type": "stream",
     "text": [
      "/home/yxie10/.local/lib/python3.11/site-packages/keras/src/layers/convolutional/base_conv.py:107: UserWarning: Do not pass an `input_shape`/`input_dim` argument to a layer. When using Sequential models, prefer using an `Input(shape)` object as the first layer in the model instead.\n",
      "  super().__init__(activity_regularizer=activity_regularizer, **kwargs)\n"
     ]
    },
    {
     "name": "stdout",
     "output_type": "stream",
     "text": [
      "Epoch 1/10\n",
      "\u001b[1m1554/1554\u001b[0m \u001b[32m━━━━━━━━━━━━━━━━━━━━\u001b[0m\u001b[37m\u001b[0m \u001b[1m10s\u001b[0m 6ms/step - accuracy: 0.5844 - loss: 0.0773\n",
      "Epoch 2/10\n",
      "\u001b[1m1554/1554\u001b[0m \u001b[32m━━━━━━━━━━━━━━━━━━━━\u001b[0m\u001b[37m\u001b[0m \u001b[1m10s\u001b[0m 7ms/step - accuracy: 0.6606 - loss: 0.0612\n",
      "Epoch 3/10\n",
      "\u001b[1m1554/1554\u001b[0m \u001b[32m━━━━━━━━━━━━━━━━━━━━\u001b[0m\u001b[37m\u001b[0m \u001b[1m10s\u001b[0m 7ms/step - accuracy: 0.6792 - loss: 0.0561\n",
      "Epoch 4/10\n",
      "\u001b[1m1554/1554\u001b[0m \u001b[32m━━━━━━━━━━━━━━━━━━━━\u001b[0m\u001b[37m\u001b[0m \u001b[1m11s\u001b[0m 7ms/step - accuracy: 0.6937 - loss: 0.0526\n",
      "Epoch 5/10\n",
      "\u001b[1m1554/1554\u001b[0m \u001b[32m━━━━━━━━━━━━━━━━━━━━\u001b[0m\u001b[37m\u001b[0m \u001b[1m20s\u001b[0m 6ms/step - accuracy: 0.7025 - loss: 0.0504\n",
      "Epoch 6/10\n",
      "\u001b[1m1554/1554\u001b[0m \u001b[32m━━━━━━━━━━━━━━━━━━━━\u001b[0m\u001b[37m\u001b[0m \u001b[1m11s\u001b[0m 7ms/step - accuracy: 0.7086 - loss: 0.0486\n",
      "Epoch 7/10\n",
      "\u001b[1m1554/1554\u001b[0m \u001b[32m━━━━━━━━━━━━━━━━━━━━\u001b[0m\u001b[37m\u001b[0m \u001b[1m20s\u001b[0m 6ms/step - accuracy: 0.7126 - loss: 0.0471\n",
      "Epoch 8/10\n",
      "\u001b[1m1554/1554\u001b[0m \u001b[32m━━━━━━━━━━━━━━━━━━━━\u001b[0m\u001b[37m\u001b[0m \u001b[1m10s\u001b[0m 6ms/step - accuracy: 0.7131 - loss: 0.0462\n",
      "Epoch 9/10\n",
      "\u001b[1m1554/1554\u001b[0m \u001b[32m━━━━━━━━━━━━━━━━━━━━\u001b[0m\u001b[37m\u001b[0m \u001b[1m11s\u001b[0m 7ms/step - accuracy: 0.7169 - loss: 0.0448\n",
      "Epoch 10/10\n",
      "\u001b[1m1554/1554\u001b[0m \u001b[32m━━━━━━━━━━━━━━━━━━━━\u001b[0m\u001b[37m\u001b[0m \u001b[1m11s\u001b[0m 7ms/step - accuracy: 0.7180 - loss: 0.0438\n"
     ]
    }
   ],
   "source": [
    "#building vnn (vanilla neural net) model\n",
    "#VNNACTIVATIONFXN = 'tanh'\n",
    "#vnn = Sequential()\n",
    "#vnn.add(Input(shape=(2200,)))\n",
    "#vnn.add(Dense(units = 10, activation = VNNACTIVATIONFXN))\n",
    "#vnn.add(Dense(units = 9, activation = VNNACTIVATIONFXN))\n",
    "#vnn.compile(optimizer = 'rmsprop', loss = 'mean_squared_error')\n",
    "\n",
    "#building cnn model\n",
    "CNNACTIVATIONFXN = 'sigmoid'\n",
    "cnn = Sequential();\n",
    "cnn.add(Conv1D(32, kernel_size=5, activation='relu', input_shape=(100,22)))\n",
    "cnn.add(MaxPooling1D())\n",
    "#cnn.add(Conv1D(32, kernel_size=5, activation='relu'))\n",
    "#cnn.add(MaxPooling1D())\n",
    "cnn.add(Flatten())\n",
    "cnn.add(Dense(units = 64, activation = CNNACTIVATIONFXN))\n",
    "cnn.add(Dense(units = 32, activation = CNNACTIVATIONFXN))\n",
    "cnn.add(Dense(units = 32, activation = CNNACTIVATIONFXN))\n",
    "cnn.add(Dense(units = 9, activation = 'tanh'))\n",
    "cnn.compile(optimizer = 'rmsprop', loss = 'mean_squared_error', metrics=['accuracy'])\n",
    "\n",
    "#fitting model\n",
    "early_stopping = keras.callbacks.EarlyStopping(\n",
    "    #Enter your parameters\n",
    "    monitor='loss',\n",
    "    min_delta=0,\n",
    "    patience=2,\n",
    "    verbose=0,\n",
    "    mode='auto',\n",
    "    baseline=None,\n",
    "    restore_best_weights=True,\n",
    "    start_from_epoch=0\n",
    ")\n",
    "\n",
    "#vnn_history = vnn.fit(X_train.reshape((len(X_train), 2200)), y_train, batch_size = 128, epochs = 10, callbacks = [], verbose = 1)\n",
    "cnn_history = cnn.fit(X_train, y_train, batch_size = 128, epochs = 10, callbacks = [early_stopping], verbose = 1)"
   ]
  },
  {
   "cell_type": "code",
   "execution_count": 13,
   "metadata": {},
   "outputs": [
    {
     "ename": "NameError",
     "evalue": "name 'cnn' is not defined",
     "output_type": "error",
     "traceback": [
      "\u001b[0;31m---------------------------------------------------------------------------\u001b[0m",
      "\u001b[0;31mNameError\u001b[0m                                 Traceback (most recent call last)",
      "Cell \u001b[0;32mIn[13], line 25\u001b[0m\n\u001b[1;32m     10\u001b[0m     \u001b[38;5;28;01mreturn\u001b[39;00m \u001b[38;5;28mlen\u001b[39m([x \u001b[38;5;28;01mfor\u001b[39;00m x \u001b[38;5;129;01min\u001b[39;00m ytot \u001b[38;5;28;01mif\u001b[39;00m x[\u001b[38;5;241m0\u001b[39m] \u001b[38;5;241m==\u001b[39m \u001b[38;5;241m1\u001b[39m \u001b[38;5;129;01mand\u001b[39;00m x[\u001b[38;5;241m0\u001b[39m] \u001b[38;5;241m==\u001b[39m x[\u001b[38;5;241m1\u001b[39m]])\u001b[38;5;241m/\u001b[39m\u001b[38;5;28mlen\u001b[39m([x \u001b[38;5;28;01mfor\u001b[39;00m x \u001b[38;5;129;01min\u001b[39;00m y \u001b[38;5;28;01mif\u001b[39;00m x \u001b[38;5;241m==\u001b[39m \u001b[38;5;241m1\u001b[39m])\n\u001b[1;32m     11\u001b[0m \u001b[38;5;124;03m'''\u001b[39;00m\n\u001b[1;32m     12\u001b[0m \u001b[38;5;124;03mvnn_yhat_test = vnn.predict(X_test.reshape(len(X_test), 2200))\u001b[39;00m\n\u001b[1;32m     13\u001b[0m \u001b[38;5;124;03mvnn_yhat_test = np.where(vnn_yhat_test > 0.5, 1, 0)\u001b[39;00m\n\u001b[0;32m   (...)\u001b[0m\n\u001b[1;32m     22\u001b[0m \u001b[38;5;124;03m    i += 1\u001b[39;00m\n\u001b[1;32m     23\u001b[0m \u001b[38;5;124;03m'''\u001b[39;00m \u001b[38;5;66;03m#in general the vnn performs worse than the cnn\u001b[39;00m\n\u001b[0;32m---> 25\u001b[0m cnn_yhat_test \u001b[38;5;241m=\u001b[39m \u001b[43mcnn\u001b[49m\u001b[38;5;241m.\u001b[39mpredict(X_test)\n\u001b[1;32m     26\u001b[0m cnn_yhat_test \u001b[38;5;241m=\u001b[39m np\u001b[38;5;241m.\u001b[39mwhere(cnn_yhat_test \u001b[38;5;241m>\u001b[39m \u001b[38;5;241m0.5\u001b[39m, \u001b[38;5;241m1\u001b[39m, \u001b[38;5;241m0\u001b[39m)\n\u001b[1;32m     27\u001b[0m \u001b[38;5;28mprint\u001b[39m(\u001b[38;5;124m\"\u001b[39m\u001b[38;5;130;01m\\n\u001b[39;00m\u001b[38;5;124mCNN accuracy:\u001b[39m\u001b[38;5;124m\"\u001b[39m, accuracy_score(y_test, cnn_yhat_test))\n",
      "\u001b[0;31mNameError\u001b[0m: name 'cnn' is not defined"
     ]
    }
   ],
   "source": [
    "#model evaluation\n",
    "'''\n",
    "vnn_yhat_test = vnn.predict(X_test.reshape(len(X_test), 2200))\n",
    "vnn_yhat_test = np.where(vnn_yhat_test > 0.5, 1, 0)\n",
    "print(\"VNN accuracy:\", accuracy_score(y_test, vnn_yhat_test))\n",
    "\n",
    "i=0\n",
    "vnn_yhat_test_classes = np.transpose(vnn_yhat_test)\n",
    "for hazard in y_test:\n",
    "    print(hazard, \"precision:\", precision(y_test[hazard], vnn_yhat_test_classes[i]))\n",
    "    print(hazard, \"recall:\", recall(y_test[hazard], vnn_yhat_test_classes[i]))\n",
    "    print()\n",
    "    i += 1\n",
    "''' #in general the vnn performs worse than the cnn\n",
    "\n",
    "cnn_yhat_test = cnn.predict(X_test)\n",
    "cnn_yhat_test = np.where(cnn_yhat_test > 0.5, 1, 0)\n",
    "print(\"\\nCNN accuracy:\", accuracy_score(y_test, cnn_yhat_test))\n",
    "i=0\n",
    "cnn_yhat_test_classes = np.transpose(cnn_yhat_test)\n",
    "for hazard in y_test:\n",
    "    print(hazard, \"precision:\", precision(y_test[hazard], cnn_yhat_test_classes[i]))\n",
    "    print(hazard, \"recall:\", recall(y_test[hazard], cnn_yhat_test_classes[i]))\n",
    "    print()\n",
    "    i += 1"
   ]
  },
  {
   "cell_type": "code",
   "execution_count": 9,
   "metadata": {},
   "outputs": [
    {
     "name": "stdout",
     "output_type": "stream",
     "text": [
      "Reloading Tuner from ./final_tuning/tuner0.json\n",
      "Search space summary\n",
      "Default search space size: 4\n",
      "activation (Choice)\n",
      "{'default': 'sigmoid', 'conditions': [], 'values': ['sigmoid', 'tanh', 'relu'], 'ordered': False}\n",
      "output activation (Choice)\n",
      "{'default': 'sigmoid', 'conditions': [], 'values': ['sigmoid', 'tanh'], 'ordered': False}\n",
      "units (Int)\n",
      "{'default': None, 'conditions': [], 'min_value': 16, 'max_value': 64, 'step': 2, 'sampling': 'log'}\n",
      "num_layers (Int)\n",
      "{'default': None, 'conditions': [], 'min_value': 2, 'max_value': 4, 'step': 1, 'sampling': 'linear'}\n"
     ]
    }
   ],
   "source": [
    "# tuning\n",
    "\n",
    "def buildHPmodel(hp):\n",
    "    activation= hp.Choice(\"activation\", [\"sigmoid\", \"tanh\",'relu'])\n",
    "    finalactivation= hp.Choice(\"output activation\", [\"sigmoid\", \"tanh\"])\n",
    "    units =  int(hp.Int(\"units\", min_value=16, max_value=64, step=2, sampling='log'))\n",
    "    \n",
    "    cnn = Sequential();\n",
    "    cnn.add(Conv1D(32, kernel_size=3, activation='relu', input_shape=(100,22)))\n",
    "    cnn.add(MaxPooling1D())\n",
    "    cnn.add(Flatten())\n",
    "\n",
    "    for i in range(hp.Int(\"num_layers\", 2, 4)):\n",
    "        cnn.add(Dense(units=units, activation=activation))\n",
    "\n",
    "    cnn.add(Dense(units = 9, activation = finalactivation))\n",
    "    opt = keras.optimizers.RMSprop(learning_rate = 0.05)\n",
    "    cnn.compile(optimizer = opt, loss = 'mean_squared_error', metrics=['accuracy'])\n",
    "    return cnn\n",
    "\n",
    "hp = keras_tuner.HyperParameters()\n",
    "\n",
    "tuner = keras_tuner.GridSearch(\n",
    "    hypermodel=buildHPmodel,\n",
    "    objective=\"val_accuracy\",\n",
    "    max_trials=55,\n",
    "    seed=15,\n",
    "    executions_per_trial=5,\n",
    "    #hyperparameters=None,\n",
    "    tune_new_entries=True,\n",
    "    allow_new_entries=True,\n",
    "    #max_retries_per_trial=0,\n",
    "    max_consecutive_failed_trials=3,\n",
    "    overwrite=False,\n",
    "    project_name=\"final_tuning\"\n",
    ")\n",
    "\n",
    "tuner.search_space_summary()"
   ]
  },
  {
   "cell_type": "code",
   "execution_count": 7,
   "metadata": {},
   "outputs": [],
   "source": [
    "X_train, X_val, y_train, y_val = train_test_split(X_train, y_train, random_state = 0)"
   ]
  },
  {
   "cell_type": "code",
   "execution_count": 10,
   "metadata": {},
   "outputs": [
    {
     "name": "stdout",
     "output_type": "stream",
     "text": [
      "Results summary\n",
      "Results in ./final_tuning\n",
      "Showing 5 best trials\n",
      "Objective(name=\"val_accuracy\", direction=\"max\")\n",
      "\n",
      "Trial 09 summary\n",
      "Hyperparameters:\n",
      "activation: sigmoid\n",
      "output activation: tanh\n",
      "units: 16\n",
      "num_layers: 2\n",
      "Score: 0.7000060319900513\n",
      "\n",
      "Trial 03 summary\n",
      "Hyperparameters:\n",
      "activation: sigmoid\n",
      "output activation: sigmoid\n",
      "units: 32.0\n",
      "num_layers: 2\n",
      "Score: 0.6946195363998413\n",
      "\n",
      "Trial 06 summary\n",
      "Hyperparameters:\n",
      "activation: sigmoid\n",
      "output activation: sigmoid\n",
      "units: 64.0\n",
      "num_layers: 2\n",
      "Score: 0.6930386066436768\n",
      "\n",
      "Trial 01 summary\n",
      "Hyperparameters:\n",
      "activation: sigmoid\n",
      "output activation: sigmoid\n",
      "units: 16\n",
      "num_layers: 3\n",
      "Score: 0.6900858879089355\n",
      "\n",
      "Trial 04 summary\n",
      "Hyperparameters:\n",
      "activation: sigmoid\n",
      "output activation: sigmoid\n",
      "units: 32.0\n",
      "num_layers: 3\n",
      "Score: 0.6893859148025513\n"
     ]
    }
   ],
   "source": [
    "tuner.search(X_train, y_train, epochs=5, batch_size = 512, validation_data=(X_val, y_val))\n",
    "tuner.results_summary(num_trials=5)\n",
    "hps = tuner.get_best_hyperparameters(num_trials=5)"
   ]
  },
  {
   "cell_type": "code",
   "execution_count": null,
   "metadata": {},
   "outputs": [],
   "source": [
    "\n",
    "num=0\n",
    "X_train, X_test, y_train, y_test = train_test_split(smilesnp, y, test_size=0.2, random_state=21)\n",
    "\n",
    "early_stopping = keras.callbacks.EarlyStopping(\n",
    "    #Enter your parameters\n",
    "    monitor='loss',\n",
    "    min_delta=0,\n",
    "    patience=2,\n",
    "    verbose=0,\n",
    "    mode='auto',\n",
    "    baseline=None,\n",
    "    restore_best_weights=True,\n",
    "    start_from_epoch=0\n",
    ")\n",
    "\n",
    "for hp in hps:\n",
    "    print('Model', num, \":\\n\")\n",
    "    model = tuner.hypermodel.build(hp)\n",
    "    model.fit(X_train, y_train, batch_size = 1024, epochs = 30, verbose = 0)\n",
    "    yhat_test = model.predict(X_test)\n",
    "    yhat_test = np.where(yhat_test > 0.5, 1, 0)\n",
    "    print(\"\\nAccuracy:\", accuracy_score(y_test, yhat_test))\n",
    "    i=0\n",
    "    yhat_test_classes = np.transpose(yhat_test)\n",
    "    for hazard in y_test:\n",
    "        print(hazard, \"precision:\", precision(y_test[hazard], yhat_test_classes[i]))\n",
    "        print(hazard, \"recall:\", recall(y_test[hazard], yhat_test_classes[i]))\n",
    "        print()\n",
    "        i += 1\n",
    "    num += 1"
   ]
  },
  {
   "cell_type": "code",
   "execution_count": 27,
   "metadata": {},
   "outputs": [
    {
     "name": "stdout",
     "output_type": "stream",
     "text": [
      "{'activation': 'sigmoid', 'output activation': 'sigmoid', 'units': 16, 'num_layers': 3}\n"
     ]
    }
   ],
   "source": [
    "print(hps[3].values)"
   ]
  },
  {
   "cell_type": "code",
   "execution_count": 5,
   "metadata": {},
   "outputs": [
    {
     "name": "stderr",
     "output_type": "stream",
     "text": [
      "/home/yxie10/.local/lib/python3.11/site-packages/keras/src/layers/convolutional/base_conv.py:107: UserWarning: Do not pass an `input_shape`/`input_dim` argument to a layer. When using Sequential models, prefer using an `Input(shape)` object as the first layer in the model instead.\n",
      "  super().__init__(activity_regularizer=activity_regularizer, **kwargs)\n"
     ]
    },
    {
     "name": "stdout",
     "output_type": "stream",
     "text": [
      "Epoch 1/50\n",
      "\u001b[1m1554/1554\u001b[0m \u001b[32m━━━━━━━━━━━━━━━━━━━━\u001b[0m\u001b[37m\u001b[0m \u001b[1m15s\u001b[0m 9ms/step - accuracy: 0.5717 - loss: 0.0861\n",
      "Epoch 2/50\n",
      "\u001b[1m1554/1554\u001b[0m \u001b[32m━━━━━━━━━━━━━━━━━━━━\u001b[0m\u001b[37m\u001b[0m \u001b[1m20s\u001b[0m 9ms/step - accuracy: 0.5787 - loss: 0.0799\n",
      "Epoch 3/50\n",
      "\u001b[1m1554/1554\u001b[0m \u001b[32m━━━━━━━━━━━━━━━━━━━━\u001b[0m\u001b[37m\u001b[0m \u001b[1m21s\u001b[0m 9ms/step - accuracy: 0.5799 - loss: 0.0785\n",
      "Epoch 4/50\n",
      "\u001b[1m1554/1554\u001b[0m \u001b[32m━━━━━━━━━━━━━━━━━━━━\u001b[0m\u001b[37m\u001b[0m \u001b[1m20s\u001b[0m 9ms/step - accuracy: 0.5923 - loss: 0.0731\n",
      "Epoch 5/50\n",
      "\u001b[1m1554/1554\u001b[0m \u001b[32m━━━━━━━━━━━━━━━━━━━━\u001b[0m\u001b[37m\u001b[0m \u001b[1m20s\u001b[0m 9ms/step - accuracy: 0.6170 - loss: 0.0715\n",
      "Epoch 6/50\n",
      "\u001b[1m1554/1554\u001b[0m \u001b[32m━━━━━━━━━━━━━━━━━━━━\u001b[0m\u001b[37m\u001b[0m \u001b[1m15s\u001b[0m 9ms/step - accuracy: 0.6203 - loss: 0.0705\n",
      "Epoch 7/50\n",
      "\u001b[1m1554/1554\u001b[0m \u001b[32m━━━━━━━━━━━━━━━━━━━━\u001b[0m\u001b[37m\u001b[0m \u001b[1m20s\u001b[0m 9ms/step - accuracy: 0.6206 - loss: 0.0695\n",
      "Epoch 8/50\n",
      "\u001b[1m1554/1554\u001b[0m \u001b[32m━━━━━━━━━━━━━━━━━━━━\u001b[0m\u001b[37m\u001b[0m \u001b[1m14s\u001b[0m 9ms/step - accuracy: 0.6249 - loss: 0.0676\n",
      "Epoch 9/50\n",
      "\u001b[1m1554/1554\u001b[0m \u001b[32m━━━━━━━━━━━━━━━━━━━━\u001b[0m\u001b[37m\u001b[0m \u001b[1m14s\u001b[0m 9ms/step - accuracy: 0.6287 - loss: 0.0655\n",
      "Epoch 10/50\n",
      "\u001b[1m1554/1554\u001b[0m \u001b[32m━━━━━━━━━━━━━━━━━━━━\u001b[0m\u001b[37m\u001b[0m \u001b[1m15s\u001b[0m 10ms/step - accuracy: 0.6484 - loss: 0.0634\n",
      "Epoch 11/50\n",
      "\u001b[1m1554/1554\u001b[0m \u001b[32m━━━━━━━━━━━━━━━━━━━━\u001b[0m\u001b[37m\u001b[0m \u001b[1m20s\u001b[0m 10ms/step - accuracy: 0.6568 - loss: 0.0621\n",
      "Epoch 12/50\n",
      "\u001b[1m1554/1554\u001b[0m \u001b[32m━━━━━━━━━━━━━━━━━━━━\u001b[0m\u001b[37m\u001b[0m \u001b[1m21s\u001b[0m 10ms/step - accuracy: 0.6646 - loss: 0.0611\n",
      "Epoch 13/50\n",
      "\u001b[1m1554/1554\u001b[0m \u001b[32m━━━━━━━━━━━━━━━━━━━━\u001b[0m\u001b[37m\u001b[0m \u001b[1m14s\u001b[0m 9ms/step - accuracy: 0.6686 - loss: 0.0598\n",
      "Epoch 14/50\n",
      "\u001b[1m1554/1554\u001b[0m \u001b[32m━━━━━━━━━━━━━━━━━━━━\u001b[0m\u001b[37m\u001b[0m \u001b[1m15s\u001b[0m 10ms/step - accuracy: 0.6722 - loss: 0.0586\n",
      "Epoch 15/50\n",
      "\u001b[1m1554/1554\u001b[0m \u001b[32m━━━━━━━━━━━━━━━━━━━━\u001b[0m\u001b[37m\u001b[0m \u001b[1m20s\u001b[0m 9ms/step - accuracy: 0.6767 - loss: 0.0572\n",
      "Epoch 16/50\n",
      "\u001b[1m1554/1554\u001b[0m \u001b[32m━━━━━━━━━━━━━━━━━━━━\u001b[0m\u001b[37m\u001b[0m \u001b[1m20s\u001b[0m 9ms/step - accuracy: 0.6785 - loss: 0.0563\n",
      "Epoch 17/50\n",
      "\u001b[1m1554/1554\u001b[0m \u001b[32m━━━━━━━━━━━━━━━━━━━━\u001b[0m\u001b[37m\u001b[0m \u001b[1m20s\u001b[0m 9ms/step - accuracy: 0.6814 - loss: 0.0553\n",
      "Epoch 18/50\n",
      "\u001b[1m1554/1554\u001b[0m \u001b[32m━━━━━━━━━━━━━━━━━━━━\u001b[0m\u001b[37m\u001b[0m \u001b[1m20s\u001b[0m 8ms/step - accuracy: 0.6827 - loss: 0.0547\n",
      "Epoch 19/50\n",
      "\u001b[1m1554/1554\u001b[0m \u001b[32m━━━━━━━━━━━━━━━━━━━━\u001b[0m\u001b[37m\u001b[0m \u001b[1m14s\u001b[0m 9ms/step - accuracy: 0.6850 - loss: 0.0539\n",
      "Epoch 20/50\n",
      "\u001b[1m1554/1554\u001b[0m \u001b[32m━━━━━━━━━━━━━━━━━━━━\u001b[0m\u001b[37m\u001b[0m \u001b[1m21s\u001b[0m 9ms/step - accuracy: 0.6866 - loss: 0.0533\n",
      "Epoch 21/50\n",
      "\u001b[1m1554/1554\u001b[0m \u001b[32m━━━━━━━━━━━━━━━━━━━━\u001b[0m\u001b[37m\u001b[0m \u001b[1m20s\u001b[0m 9ms/step - accuracy: 0.6911 - loss: 0.0526\n",
      "Epoch 22/50\n",
      "\u001b[1m1554/1554\u001b[0m \u001b[32m━━━━━━━━━━━━━━━━━━━━\u001b[0m\u001b[37m\u001b[0m \u001b[1m12s\u001b[0m 8ms/step - accuracy: 0.6929 - loss: 0.0519\n",
      "Epoch 23/50\n",
      "\u001b[1m1554/1554\u001b[0m \u001b[32m━━━━━━━━━━━━━━━━━━━━\u001b[0m\u001b[37m\u001b[0m \u001b[1m11s\u001b[0m 7ms/step - accuracy: 0.6952 - loss: 0.0512\n",
      "Epoch 24/50\n",
      "\u001b[1m1554/1554\u001b[0m \u001b[32m━━━━━━━━━━━━━━━━━━━━\u001b[0m\u001b[37m\u001b[0m \u001b[1m21s\u001b[0m 7ms/step - accuracy: 0.6985 - loss: 0.0507\n",
      "Epoch 25/50\n",
      "\u001b[1m1554/1554\u001b[0m \u001b[32m━━━━━━━━━━━━━━━━━━━━\u001b[0m\u001b[37m\u001b[0m \u001b[1m14s\u001b[0m 9ms/step - accuracy: 0.7004 - loss: 0.0501\n",
      "Epoch 26/50\n",
      "\u001b[1m1554/1554\u001b[0m \u001b[32m━━━━━━━━━━━━━━━━━━━━\u001b[0m\u001b[37m\u001b[0m \u001b[1m14s\u001b[0m 9ms/step - accuracy: 0.7080 - loss: 0.0492\n",
      "Epoch 27/50\n",
      "\u001b[1m1554/1554\u001b[0m \u001b[32m━━━━━━━━━━━━━━━━━━━━\u001b[0m\u001b[37m\u001b[0m \u001b[1m13s\u001b[0m 9ms/step - accuracy: 0.7090 - loss: 0.0486\n",
      "Epoch 28/50\n",
      "\u001b[1m1554/1554\u001b[0m \u001b[32m━━━━━━━━━━━━━━━━━━━━\u001b[0m\u001b[37m\u001b[0m \u001b[1m21s\u001b[0m 9ms/step - accuracy: 0.7110 - loss: 0.0481\n",
      "Epoch 29/50\n",
      "\u001b[1m1554/1554\u001b[0m \u001b[32m━━━━━━━━━━━━━━━━━━━━\u001b[0m\u001b[37m\u001b[0m \u001b[1m20s\u001b[0m 8ms/step - accuracy: 0.7130 - loss: 0.0474\n",
      "Epoch 30/50\n",
      "\u001b[1m1554/1554\u001b[0m \u001b[32m━━━━━━━━━━━━━━━━━━━━\u001b[0m\u001b[37m\u001b[0m \u001b[1m18s\u001b[0m 7ms/step - accuracy: 0.7140 - loss: 0.0468\n",
      "Epoch 31/50\n",
      "\u001b[1m1554/1554\u001b[0m \u001b[32m━━━━━━━━━━━━━━━━━━━━\u001b[0m\u001b[37m\u001b[0m \u001b[1m11s\u001b[0m 7ms/step - accuracy: 0.7139 - loss: 0.0464\n",
      "Epoch 32/50\n",
      "\u001b[1m1554/1554\u001b[0m \u001b[32m━━━━━━━━━━━━━━━━━━━━\u001b[0m\u001b[37m\u001b[0m \u001b[1m23s\u001b[0m 8ms/step - accuracy: 0.7153 - loss: 0.0460\n",
      "Epoch 33/50\n",
      "\u001b[1m1554/1554\u001b[0m \u001b[32m━━━━━━━━━━━━━━━━━━━━\u001b[0m\u001b[37m\u001b[0m \u001b[1m21s\u001b[0m 9ms/step - accuracy: 0.7170 - loss: 0.0455\n",
      "Epoch 34/50\n",
      "\u001b[1m1554/1554\u001b[0m \u001b[32m━━━━━━━━━━━━━━━━━━━━\u001b[0m\u001b[37m\u001b[0m \u001b[1m20s\u001b[0m 8ms/step - accuracy: 0.7168 - loss: 0.0451\n",
      "Epoch 35/50\n",
      "\u001b[1m1554/1554\u001b[0m \u001b[32m━━━━━━━━━━━━━━━━━━━━\u001b[0m\u001b[37m\u001b[0m \u001b[1m14s\u001b[0m 9ms/step - accuracy: 0.7172 - loss: 0.0448\n",
      "Epoch 36/50\n",
      "\u001b[1m1554/1554\u001b[0m \u001b[32m━━━━━━━━━━━━━━━━━━━━\u001b[0m\u001b[37m\u001b[0m \u001b[1m19s\u001b[0m 8ms/step - accuracy: 0.7181 - loss: 0.0439\n",
      "Epoch 37/50\n",
      "\u001b[1m1554/1554\u001b[0m \u001b[32m━━━━━━━━━━━━━━━━━━━━\u001b[0m\u001b[37m\u001b[0m \u001b[1m22s\u001b[0m 9ms/step - accuracy: 0.7187 - loss: 0.0439\n",
      "Epoch 38/50\n",
      "\u001b[1m1554/1554\u001b[0m \u001b[32m━━━━━━━━━━━━━━━━━━━━\u001b[0m\u001b[37m\u001b[0m \u001b[1m20s\u001b[0m 9ms/step - accuracy: 0.7182 - loss: 0.0438\n",
      "Epoch 39/50\n",
      "\u001b[1m1554/1554\u001b[0m \u001b[32m━━━━━━━━━━━━━━━━━━━━\u001b[0m\u001b[37m\u001b[0m \u001b[1m14s\u001b[0m 9ms/step - accuracy: 0.7189 - loss: 0.0431\n",
      "Epoch 40/50\n",
      "\u001b[1m1554/1554\u001b[0m \u001b[32m━━━━━━━━━━━━━━━━━━━━\u001b[0m\u001b[37m\u001b[0m \u001b[1m14s\u001b[0m 9ms/step - accuracy: 0.7202 - loss: 0.0427\n",
      "Epoch 41/50\n",
      "\u001b[1m1554/1554\u001b[0m \u001b[32m━━━━━━━━━━━━━━━━━━━━\u001b[0m\u001b[37m\u001b[0m \u001b[1m14s\u001b[0m 9ms/step - accuracy: 0.7203 - loss: 0.0424\n",
      "Epoch 42/50\n",
      "\u001b[1m1554/1554\u001b[0m \u001b[32m━━━━━━━━━━━━━━━━━━━━\u001b[0m\u001b[37m\u001b[0m \u001b[1m20s\u001b[0m 9ms/step - accuracy: 0.7222 - loss: 0.0420\n",
      "Epoch 43/50\n",
      "\u001b[1m1554/1554\u001b[0m \u001b[32m━━━━━━━━━━━━━━━━━━━━\u001b[0m\u001b[37m\u001b[0m \u001b[1m20s\u001b[0m 9ms/step - accuracy: 0.7224 - loss: 0.0418\n",
      "Epoch 44/50\n",
      "\u001b[1m1554/1554\u001b[0m \u001b[32m━━━━━━━━━━━━━━━━━━━━\u001b[0m\u001b[37m\u001b[0m \u001b[1m21s\u001b[0m 9ms/step - accuracy: 0.7222 - loss: 0.0414\n",
      "Epoch 45/50\n",
      "\u001b[1m1554/1554\u001b[0m \u001b[32m━━━━━━━━━━━━━━━━━━━━\u001b[0m\u001b[37m\u001b[0m \u001b[1m14s\u001b[0m 9ms/step - accuracy: 0.7247 - loss: 0.0409\n",
      "Epoch 46/50\n",
      "\u001b[1m1554/1554\u001b[0m \u001b[32m━━━━━━━━━━━━━━━━━━━━\u001b[0m\u001b[37m\u001b[0m \u001b[1m21s\u001b[0m 9ms/step - accuracy: 0.7239 - loss: 0.0407\n",
      "Epoch 47/50\n",
      "\u001b[1m1554/1554\u001b[0m \u001b[32m━━━━━━━━━━━━━━━━━━━━\u001b[0m\u001b[37m\u001b[0m \u001b[1m20s\u001b[0m 9ms/step - accuracy: 0.7230 - loss: 0.0404\n",
      "Epoch 48/50\n",
      "\u001b[1m1554/1554\u001b[0m \u001b[32m━━━━━━━━━━━━━━━━━━━━\u001b[0m\u001b[37m\u001b[0m \u001b[1m14s\u001b[0m 9ms/step - accuracy: 0.7261 - loss: 0.0403\n",
      "Epoch 49/50\n",
      "\u001b[1m1554/1554\u001b[0m \u001b[32m━━━━━━━━━━━━━━━━━━━━\u001b[0m\u001b[37m\u001b[0m \u001b[1m20s\u001b[0m 8ms/step - accuracy: 0.7233 - loss: 0.0400\n",
      "Epoch 50/50\n",
      "\u001b[1m1554/1554\u001b[0m \u001b[32m━━━━━━━━━━━━━━━━━━━━\u001b[0m\u001b[37m\u001b[0m \u001b[1m17s\u001b[0m 6ms/step - accuracy: 0.7273 - loss: 0.0397\n",
      "\u001b[1m1554/1554\u001b[0m \u001b[32m━━━━━━━━━━━━━━━━━━━━\u001b[0m\u001b[37m\u001b[0m \u001b[1m2s\u001b[0m 1ms/step\n"
     ]
    }
   ],
   "source": [
    "# looks like more layer + more units per layer ends up yielding better results on both test and train data, so we'll try that ?\n",
    "# still not really sure how to improve recall over precision though...\n",
    "\n",
    "CNNACTIVATIONFXN = 'sigmoid'\n",
    "final_cnn = Sequential();\n",
    "final_cnn.add(Conv1D(32, kernel_size=5, activation='relu', input_shape=(100,22)))\n",
    "final_cnn.add(MaxPooling1D())\n",
    "#final_cnn.add(Conv1D(32, kernel_size=5, activation='relu'))\n",
    "#final_cnn.add(MaxPooling1D())\n",
    "final_cnn.add(Flatten())\n",
    "final_cnn.add(Dense(units = 64, activation = CNNACTIVATIONFXN))\n",
    "final_cnn.add(Dense(units = 64, activation = CNNACTIVATIONFXN))\n",
    "final_cnn.add(Dense(units = 64, activation = CNNACTIVATIONFXN))\n",
    "final_cnn.add(Dense(units = 9, activation = 'sigmoid'))\n",
    "final_cnn.compile(optimizer = 'rmsprop', loss = 'mean_squared_error', metrics=['accuracy'])\n",
    "\n",
    "model_history = final_cnn.fit(X_train, y_train, batch_size = 128, epochs = 50, verbose = 1)\n",
    "yhat_test = final_cnn.predict(X_test)\n",
    "yhat_test = np.where(yhat_test > 0.5, 1, 0)"
   ]
  },
  {
   "cell_type": "code",
   "execution_count": 6,
   "metadata": {},
   "outputs": [
    {
     "name": "stdout",
     "output_type": "stream",
     "text": [
      "\n",
      "Overall Accuracy: 0.6520304925880483\n",
      "explosive accuracy: 0.9935032282720196\n",
      "explosive precision: 0.9039341262580055\n",
      "explosive recall: 0.9459071325993298\n",
      "\n",
      "flammable accuracy: 0.9586660498421063\n",
      "flammable precision: 0.7145697245100824\n",
      "flammable recall: 0.7055524397083567\n",
      "\n",
      "oxidizer accuracy: 0.9935836836494559\n",
      "oxidizer precision: 0.982281284606866\n",
      "oxidizer recall: 0.9329476728898238\n",
      "\n",
      "pressurized accuracy: 0.9973047448558843\n",
      "pressurized precision: 0.8871391076115486\n",
      "pressurized recall: 0.7878787878787878\n",
      "\n",
      "corrosive accuracy: 0.8892531729589477\n",
      "corrosive precision: 0.7809486321590238\n",
      "corrosive recall: 0.47458437985886853\n",
      "\n",
      "toxic accuracy: 0.9323772552647988\n",
      "toxic precision: 0.7481234361968306\n",
      "toxic recall: 0.2266868840030326\n",
      "\n",
      "irritant accuracy: 0.8664239596114005\n",
      "irritant precision: 0.8943674644592406\n",
      "irritant recall: 0.9533629061263638\n",
      "\n",
      "health hazard accuracy: 0.9324778244865941\n",
      "health hazard precision: 0.7692307692307693\n",
      "health hazard recall: 0.38511749347258484\n",
      "\n",
      "environmental hazard accuracy: 0.9242914898324517\n",
      "environmental hazard precision: 0.6808176100628931\n",
      "environmental hazard recall: 0.505054432348367\n",
      "\n"
     ]
    }
   ],
   "source": [
    "print(\"\\nOverall Accuracy:\", accuracy_score(y_test, yhat_test))\n",
    "i=0\n",
    "yhat_test_classes = np.transpose(yhat_test)\n",
    "acc = []\n",
    "prec = []\n",
    "rec = []\n",
    "for hazard in y_test:\n",
    "    print(hazard, \"accuracy:\", accuracy_score(y_test[hazard], yhat_test_classes[i]))\n",
    "    acc.append(accuracy_score(y_test[hazard], yhat_test_classes[i]))\n",
    "    print(hazard, \"precision:\", precision(y_test[hazard], yhat_test_classes[i]))\n",
    "    prec.append(precision(y_test[hazard], yhat_test_classes[i]))\n",
    "    print(hazard, \"recall:\", recall(y_test[hazard], yhat_test_classes[i]))\n",
    "    rec.append(recall(y_test[hazard], yhat_test_classes[i]))\n",
    "    print()\n",
    "    i += 1"
   ]
  },
  {
   "cell_type": "code",
   "execution_count": 26,
   "metadata": {},
   "outputs": [
    {
     "data": {
      "text/plain": [
       "<sklearn.metrics._plot.confusion_matrix.ConfusionMatrixDisplay at 0x1552a7c06c90>"
      ]
     },
     "execution_count": 26,
     "metadata": {},
     "output_type": "execute_result"
    },
    {
     "data": {
      "image/png": "[encoded data removed]",
      "text/plain": [
       "<Figure size 640x480 with 2 Axes>"
      ]
     },
     "metadata": {},
     "output_type": "display_data"
    }
   ],
   "source": [
    "from sklearn.metrics import multilabel_confusion_matrix, ConfusionMatrixDisplay\n",
    "\n",
    "#cmatrix_test = multilabel_confusion_matrix(y_test, yhat_test)#, labels=y_test.columns)\n",
    "#for plot, haz in zip(cmatrix_test, y_test.columns):\n",
    "#    cmdisptest = ConfusionMatrixDisplay(confusion_matrix=plot)#, display_labels=y_test.columns)\n",
    "#    cmdisptest.plot()\n",
    "\n",
    "cm = confusion_matrix(y_test.to_numpy().argmax(axis=1), yhat_test.argmax(axis=1))\n",
    "\n",
    "classes = y_test.columns\n",
    "cm_disp = ConfusionMatrixDisplay(confusion_matrix=cm, display_labels=y_test.columns)\n",
    "cm_disp.plot(values_format='d', xticks_rotation='vertical')\n"
   ]
  },
  {
   "cell_type": "code",
   "execution_count": 32,
   "metadata": {},
   "outputs": [
    {
     "data": {
      "text/plain": [
       "Text(0.5, 1.0, 'Accuracy')"
      ]
     },
     "execution_count": 32,
     "metadata": {},
     "output_type": "execute_result"
    },
    {
     "data": {
      "image/png": "[encoded data removed]",
      "text/plain": [
       "<Figure size 640x480 with 1 Axes>"
      ]
     },
     "metadata": {},
     "output_type": "display_data"
    }
   ],
   "source": [
    "import seaborn as sb\n",
    "accd = {y_test.columns[i] : acc[i] for i in range(len(acc))}\n",
    "precd = {y_test.columns[i] : prec[i] for i in range(len(acc))}\n",
    "recd = {y_test.columns[i] : rec[i] for i in range(len(acc))}\n",
    "sb.barplot(data=accd, orient='h').set_title('Accuracy')\n"
   ]
  },
  {
   "cell_type": "code",
   "execution_count": 33,
   "metadata": {},
   "outputs": [
    {
     "data": {
      "text/plain": [
       "Text(0.5, 1.0, 'Precision')"
      ]
     },
     "execution_count": 33,
     "metadata": {},
     "output_type": "execute_result"
    },
    {
     "data": {
      "image/png": "[encoded data removed]",
      "text/plain": [
       "<Figure size 640x480 with 1 Axes>"
      ]
     },
     "metadata": {},
     "output_type": "display_data"
    }
   ],
   "source": [
    "sb.barplot(data=precd, orient='h').set_title('Precision')"
   ]
  },
  {
   "cell_type": "code",
   "execution_count": 34,
   "metadata": {},
   "outputs": [
    {
     "data": {
      "text/plain": [
       "Text(0.5, 1.0, 'Recall')"
      ]
     },
     "execution_count": 34,
     "metadata": {},
     "output_type": "execute_result"
    },
    {
     "data": {
      "image/png": "[encoded data removed]",
      "text/plain": [
       "<Figure size 640x480 with 1 Axes>"
      ]
     },
     "metadata": {},
     "output_type": "display_data"
    }
   ],
   "source": [
    "sb.barplot(data=recd, orient='h').set_title('Recall')"
   ]
  }
 ],
 "metadata": {
  "colab": {
   "provenance": []
  },
  "kernelspec": {
   "display_name": "Python 3 (ipykernel)",
   "language": "python",
   "name": "python3"
  },
  "language_info": {
   "codemirror_mode": {
    "name": "ipython",
    "version": 3
   },
   "file_extension": ".py",
   "mimetype": "text/x-python",
   "name": "python",
   "nbconvert_exporter": "python",
   "pygments_lexer": "ipython3",
   "version": "3.11.6"
  }
 },
 "nbformat": 4,
 "nbformat_minor": 4
}
