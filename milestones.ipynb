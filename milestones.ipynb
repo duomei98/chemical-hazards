{
  "cells": [
    {
      "cell_type": "markdown",
      "source": [
        "so i do still need to test this by running everything without colab crashing halfway through\n",
        "\n",
        "not sure it's possible\n",
        "\n",
        "success tbd"
      ],
      "metadata": {
        "id": "twKoDXjqPEOm"
      }
    },
    {
      "cell_type": "code",
      "source": [
        "import xml.etree.ElementTree as et\n",
        "import re\n",
        "import pandas as pd\n",
        "import numpy as np\n",
        "import seaborn as sb"
      ],
      "metadata": {
        "id": "doGp46O-PgVD"
      },
      "execution_count": null,
      "outputs": []
    },
    {
      "cell_type": "markdown",
      "source": [
        "##initial data preprocessing:"
      ],
      "metadata": {
        "id": "5KjcG2dCNdMv"
      }
    },
    {
      "cell_type": "markdown",
      "metadata": {
        "id": "quPjD4G46Icw"
      },
      "source": [
        "###safety dataset file download/clean/splitting"
      ]
    },
    {
      "cell_type": "code",
      "execution_count": null,
      "metadata": {
        "colab": {
          "base_uri": "https://localhost:8080/"
        },
        "id": "ELjW-FE9Ht06",
        "outputId": "60d2c421-742a-4da3-f3d8-b7c392dac580"
      },
      "outputs": [
        {
          "output_type": "stream",
          "name": "stdout",
          "text": [
            "Cloning into 'chemical-hazards'...\n",
            "remote: Enumerating objects: 7, done.\u001b[K\n",
            "remote: Counting objects: 100% (7/7), done.\u001b[K\n",
            "remote: Compressing objects: 100% (5/5), done.\u001b[K\n",
            "Receiving objects: 100% (7/7), done.\n",
            "remote: Total 7 (delta 0), reused 0 (delta 0), pack-reused 0\u001b[K\n",
            "/content/chemical-hazards\n"
          ]
        }
      ],
      "source": [
        "!git clone https://github.com/duomei98/chemical-hazards.git\n",
        "%cd chemical-hazards"
      ]
    },
    {
      "cell_type": "code",
      "execution_count": null,
      "metadata": {
        "colab": {
          "base_uri": "https://localhost:8080/"
        },
        "id": "3u2GcbM1EoMm",
        "outputId": "cc851989-5eca-4ba5-f620-587e72de531a"
      },
      "outputs": [
        {
          "output_type": "stream",
          "name": "stdout",
          "text": [
            "--2024-07-14 22:23:54--  http://ftp.ncbi.nlm.nih.gov/pubchem/Compound/Extras/CID-LCSS.xml.gz\n",
            "Resolving ftp.ncbi.nlm.nih.gov (ftp.ncbi.nlm.nih.gov)... 130.14.250.11, 130.14.250.12, 130.14.250.13, ...\n",
            "Connecting to ftp.ncbi.nlm.nih.gov (ftp.ncbi.nlm.nih.gov)|130.14.250.11|:80... connected.\n",
            "HTTP request sent, awaiting response... 301 Moved Permanently\n",
            "Location: https://ftp.ncbi.nlm.nih.gov/pubchem/Compound/Extras/CID-LCSS.xml.gz [following]\n",
            "--2024-07-14 22:23:54--  https://ftp.ncbi.nlm.nih.gov/pubchem/Compound/Extras/CID-LCSS.xml.gz\n",
            "Connecting to ftp.ncbi.nlm.nih.gov (ftp.ncbi.nlm.nih.gov)|130.14.250.11|:443... connected.\n",
            "HTTP request sent, awaiting response... 200 OK\n",
            "Length: 306701954 (292M) [application/x-gzip]\n",
            "Saving to: ‘CID-LCSS.xml.gz’\n",
            "\n",
            "CID-LCSS.xml.gz     100%[===================>] 292.49M  20.1MB/s    in 18s     \n",
            "\n",
            "2024-07-14 22:24:12 (16.1 MB/s) - ‘CID-LCSS.xml.gz’ saved [306701954/306701954]\n",
            "\n"
          ]
        }
      ],
      "source": [
        "!wget ftp.ncbi.nlm.nih.gov/pubchem/Compound/Extras/CID-LCSS.xml.gz"
      ]
    },
    {
      "cell_type": "code",
      "execution_count": null,
      "metadata": {
        "id": "vADfohp1FEuR"
      },
      "outputs": [],
      "source": [
        "!gzip -d CID-LCSS.xml.gz"
      ]
    },
    {
      "cell_type": "code",
      "execution_count": null,
      "metadata": {
        "id": "f__SO-hxFOuc"
      },
      "outputs": [],
      "source": [
        "!python clean.py CID-LCSS.xml CID-LCSS-cleaned.xml"
      ]
    },
    {
      "cell_type": "code",
      "execution_count": null,
      "metadata": {
        "id": "iCrQ_IvuJXK7"
      },
      "outputs": [],
      "source": [
        "!python split.py CID-LCSS-cleaned.xml CID-LCSS-split"
      ]
    },
    {
      "cell_type": "markdown",
      "metadata": {
        "id": "rHmxnZQN6PZi"
      },
      "source": [
        "###getting cids and GHS codes from the safety dataset"
      ]
    },
    {
      "cell_type": "markdown",
      "metadata": {
        "id": "Cl3EbCiC4wao"
      },
      "source": [
        "Based on preliminary data exploration of the overall file with vim:\n",
        "- All records are of type CID\n",
        "- Root node is of type Records, the file contains only record notes within the root"
      ]
    },
    {
      "cell_type": "code",
      "execution_count": null,
      "metadata": {
        "id": "ezv-HiJw4P7C"
      },
      "outputs": [],
      "source": [
        "tree = et.parse('CID-LCSS-split-0.xml')\n",
        "root = tree.getroot()"
      ]
    },
    {
      "cell_type": "code",
      "execution_count": null,
      "metadata": {
        "id": "IZI3c-Mz5bgE",
        "colab": {
          "base_uri": "https://localhost:8080/",
          "height": 35
        },
        "outputId": "34671936-cc3e-4f89-dd14-5a0da0924e6b"
      },
      "outputs": [
        {
          "output_type": "execute_result",
          "data": {
            "text/plain": [
              "'{http://pubchem.ncbi.nlm.nih.gov/pug_view}Records'"
            ],
            "application/vnd.google.colaboratory.intrinsic+json": {
              "type": "string"
            }
          },
          "metadata": {},
          "execution_count": 8
        }
      ],
      "source": [
        "root.tag"
      ]
    },
    {
      "cell_type": "markdown",
      "metadata": {
        "id": "UQXk4E3u5hVI"
      },
      "source": [
        "We can observe that the namespace is `http://pubchem.ncbi.nlm.nih.gov/pug_view`, this is the only namespace according to the XML schema file (i think). For now, all we want is the GHS information and the CID."
      ]
    },
    {
      "cell_type": "code",
      "execution_count": null,
      "metadata": {
        "collapsed": true,
        "id": "xLtv2ztyNxug",
        "colab": {
          "base_uri": "https://localhost:8080/"
        },
        "outputId": "06c02154-6385-4d71-faee-3e38d76f2366"
      },
      "outputs": [
        {
          "output_type": "execute_result",
          "data": {
            "text/plain": [
              "{'2D Structure',\n",
              " 'Acceptable Daily Intakes',\n",
              " 'Additional Considerations',\n",
              " 'Allowable Tolerances',\n",
              " 'Autoignition Temperature',\n",
              " 'Boiling Point',\n",
              " 'CAS',\n",
              " 'CSL Reaction Information',\n",
              " 'Cancer Sites',\n",
              " 'Carcinogen Classification',\n",
              " 'Chemical Dangers',\n",
              " 'Cleanup Methods',\n",
              " 'Cleanup and Disposal',\n",
              " 'Corrosivity',\n",
              " 'Critical Temperature & Pressure',\n",
              " 'Decomposition',\n",
              " 'Density',\n",
              " 'Depositor-Supplied Synonyms',\n",
              " 'Disposal Methods',\n",
              " 'Effects of Long Term Exposure',\n",
              " 'Effects of Short Term Exposure',\n",
              " 'Evidence for Carcinogenicity',\n",
              " 'Explosion Hazards',\n",
              " 'Explosive Limits and Potential',\n",
              " 'Exposure Limits',\n",
              " 'Exposure Routes',\n",
              " 'Fire Hazards',\n",
              " 'Fire Potential',\n",
              " 'First Aid',\n",
              " 'Flammability and Explosivity',\n",
              " 'Flammable Limits',\n",
              " 'Flash Point',\n",
              " 'GHS Classification',\n",
              " 'Hazardous Reactivities & Incompatibilities',\n",
              " 'Hazards Summary',\n",
              " 'Health and Symptoms',\n",
              " 'Highly Hazardous Substance',\n",
              " 'Human Toxicity Values',\n",
              " 'Identifiers',\n",
              " 'Immediately Dangerous to Life or Health (IDLH)',\n",
              " 'InChI',\n",
              " 'InChIKey',\n",
              " 'Lower Explosive Limit (LEL)',\n",
              " 'Melting Point',\n",
              " 'Molecular Formula',\n",
              " 'Molecular Weight',\n",
              " 'NFPA Hazard Classification',\n",
              " 'Non-Human Toxicity Values',\n",
              " 'Nonfire Spill Response',\n",
              " 'Odor',\n",
              " 'Odor Threshold',\n",
              " 'Other Hazardous Reactions',\n",
              " 'Permissible Exposure Limit (PEL)',\n",
              " 'Personal Protective Equipment (PPE)',\n",
              " 'Physical Dangers',\n",
              " 'Physical Description',\n",
              " 'Physical Properties',\n",
              " 'Reactivity Alerts',\n",
              " 'Reactivity Profile',\n",
              " 'Recommended Exposure Limit (REL)',\n",
              " 'Respirator Recommendations',\n",
              " 'Safe Storage',\n",
              " 'Skin, Eye, and Respiratory Irritations',\n",
              " 'Solubility',\n",
              " 'Spillage Disposal',\n",
              " 'Stability and Reactivity',\n",
              " 'Storage Conditions',\n",
              " 'Storage and Handling',\n",
              " 'Symptoms',\n",
              " 'Target Organs',\n",
              " 'Threshold Limit Values (TLV)',\n",
              " 'Toxic Combustion Products',\n",
              " 'Toxicity Information',\n",
              " 'Toxicity Summary',\n",
              " 'Upper Explosive Limit (UEL)',\n",
              " 'Vapor Density',\n",
              " 'Vapor Pressure'}"
            ]
          },
          "metadata": {},
          "execution_count": 9
        }
      ],
      "source": [
        "#exploration of what sections there can be per record\n",
        "ns = {'pc':'http://pubchem.ncbi.nlm.nih.gov/pug_view'} #dictionary for the namespace\n",
        "secnames = set()\n",
        "for head in root.findall('.//pc:TOCHeading', ns):\n",
        "  secnames.add(head.text)\n",
        "secnames"
      ]
    },
    {
      "cell_type": "code",
      "execution_count": null,
      "metadata": {
        "id": "cUoRxfFd5ybH",
        "colab": {
          "base_uri": "https://localhost:8080/"
        },
        "outputId": "2e77cdcb-1ebe-4111-be8e-f2600baa22ed"
      },
      "outputs": [
        {
          "output_type": "stream",
          "name": "stdout",
          "text": [
            "CID-LCSS-split-0.xml\n",
            "CID-LCSS-split-1.xml\n",
            "CID-LCSS-split-2.xml\n",
            "CID-LCSS-split-3.xml\n",
            "CID-LCSS-split-4.xml\n",
            "CID-LCSS-split-5.xml\n",
            "CID-LCSS-split-6.xml\n",
            "CID-LCSS-split-7.xml\n",
            "CID-LCSS-split-8.xml\n"
          ]
        }
      ],
      "source": [
        "#ns = {'pc':'http://pubchem.ncbi.nlm.nih.gov/pug_view'} #dictionary for the namespace\n",
        "tsv = open('cid-ghs.tsv', 'w', encoding='utf-8')\n",
        "tsv.write('CID\\tghs-all\\n')#,density,fp,mp,bp');\n",
        "\n",
        "# writing CID, GHS to a tsv (not csv as the GHS will be a comma separated list)\n",
        "allghs = set();\n",
        "for i in range(9):\n",
        "  print('CID-LCSS-split-'+str(i)+'.xml')\n",
        "  tree = et.parse('CID-LCSS-split-'+str(i)+'.xml')\n",
        "  root = tree.getroot()\n",
        "  for child in root:\n",
        "    line = child.find('pc:RecordNumber', ns).text\n",
        "    add = False; #only write if we can find the GHS information\n",
        "    for sec in child.findall('.//pc:Section', ns):\n",
        "      if sec.find('pc:TOCHeading', ns).text == 'GHS Classification':\n",
        "        add = True;\n",
        "        ghs = set();\n",
        "        for string in sec.findall('.//pc:String', ns):\n",
        "          ghs.update(re.findall('H[2-4][0-9]{2}', string.text))\n",
        "        allghs.update(ghs)\n",
        "    if add:\n",
        "      line += '\\t' + (str(ghs) if len(ghs) > 0 else '') + '\\n'\n",
        "      tsv.write(line);\n",
        "tsv.close()"
      ]
    },
    {
      "cell_type": "code",
      "execution_count": null,
      "metadata": {
        "id": "FCGccb_nYU_q"
      },
      "outputs": [],
      "source": [
        "tsvdf=pd.read_csv('cid-ghs.tsv', sep='\\t')\n",
        "cids = ''\n",
        "for cid in tsvdf['CID']:\n",
        "  cids += str(cid) + '\\n'\n",
        "out = open('cid.txt', 'w', encoding='utf-8')\n",
        "out.write(cids)\n",
        "out.close()\n",
        "# using the list of CIDs to download a xml of chemical summaries from pubchem, we obtain pubchem-cid-summaries.xml"
      ]
    },
    {
      "cell_type": "markdown",
      "source": [
        "Pubchem allows downloads of the chemical information summaries for a list of CIDs (Pubchem's own chemical id system), but the results are only stored for 8 hours. You should be able to obtain the same results by uploading `cids.txt` as a list, but for convenience we have uploaded our resulting xml (not a csv because chemical names often have commas in them) to Dropbox."
      ],
      "metadata": {
        "id": "BcotT11UO4lx"
      }
    },
    {
      "cell_type": "code",
      "source": [
        "del tree\n",
        "del root"
      ],
      "metadata": {
        "id": "Um6A1YKjmMwg"
      },
      "execution_count": null,
      "outputs": []
    },
    {
      "cell_type": "markdown",
      "source": [
        "###smiles data download/splitting/parsing"
      ],
      "metadata": {
        "id": "DdrL_FfhPYPU"
      }
    },
    {
      "cell_type": "code",
      "source": [
        "!wget https://www.dropbox.com/scl/fi/9n8zxgim61wop7y4jir4k/pubchem-cid-summaries.xml?rlkey=6fvao8q0fkuhd2p2xxcwrydx0&st=afjwbise&dl=0\n",
        "!mv pubchem-cid-summaries.xml?rlkey=6fvao8q0fkuhd2p2xxcwrydx0 pubchem-cid-summaries.xml"
      ],
      "metadata": {
        "id": "bbarJScA0XKA",
        "colab": {
          "base_uri": "https://localhost:8080/"
        },
        "outputId": "59752958-53ac-4a83-9b1b-49384e160d56"
      },
      "execution_count": null,
      "outputs": [
        {
          "output_type": "stream",
          "name": "stdout",
          "text": [
            "--2024-07-14 22:33:26--  https://www.dropbox.com/scl/fi/9n8zxgim61wop7y4jir4k/pubchem-cid-summaries.xml?rlkey=6fvao8q0fkuhd2p2xxcwrydx0\n",
            "Resolving www.dropbox.com (www.dropbox.com)... 162.125.5.18, 2620:100:601d:18::a27d:512\n",
            "Connecting to www.dropbox.com (www.dropbox.com)|162.125.5.18|:443... connected.\n",
            "HTTP request sent, awaiting response... 302 Found\n",
            "Location: https://uca5e5f175f19e73b470cbc640db.dl.dropboxusercontent.com/cd/0/inline/CWsnP-rSjXl4pMCo5uKDL6H4ksTJ3FBkgnCBytk4J5jGb7s7fK-CAxEqCKVcZGiCam_pEWLROFqqcYfSWyGUd0uwE1kkhaRxtATukJH1p0td2q9cLryCa7gun0urnAD1tK_ylyYPaDCt_lUV2IbxB2dc/file# [following]\n",
            "--2024-07-14 22:33:27--  https://uca5e5f175f19e73b470cbc640db.dl.dropboxusercontent.com/cd/0/inline/CWsnP-rSjXl4pMCo5uKDL6H4ksTJ3FBkgnCBytk4J5jGb7s7fK-CAxEqCKVcZGiCam_pEWLROFqqcYfSWyGUd0uwE1kkhaRxtATukJH1p0td2q9cLryCa7gun0urnAD1tK_ylyYPaDCt_lUV2IbxB2dc/file\n",
            "Resolving uca5e5f175f19e73b470cbc640db.dl.dropboxusercontent.com (uca5e5f175f19e73b470cbc640db.dl.dropboxusercontent.com)... 162.125.5.15, 2620:100:601d:15::a27d:50f\n",
            "Connecting to uca5e5f175f19e73b470cbc640db.dl.dropboxusercontent.com (uca5e5f175f19e73b470cbc640db.dl.dropboxusercontent.com)|162.125.5.15|:443... connected.\n",
            "HTTP request sent, awaiting response... 200 OK\n",
            "Length: 1453333034 (1.4G) [text/plain]\n",
            "Saving to: ‘pubchem-cid-summaries.xml?rlkey=6fvao8q0fkuhd2p2xxcwrydx0’\n",
            "\n",
            "pubchem-cid-summari 100%[===================>]   1.35G  52.0MB/s    in 25s     \n",
            "\n",
            "2024-07-14 22:33:52 (56.1 MB/s) - ‘pubchem-cid-summaries.xml?rlkey=6fvao8q0fkuhd2p2xxcwrydx0’ saved [1453333034/1453333034]\n",
            "\n"
          ]
        }
      ]
    },
    {
      "cell_type": "code",
      "execution_count": null,
      "metadata": {
        "id": "Y5XiuLBIlvwm"
      },
      "outputs": [],
      "source": [
        "# the goal is to obtain the canonical SMILES from the xml\n",
        "# unfortunately it is too large of a file\n",
        "# so we're splitting again\n",
        "# yeehaw\n",
        "r = open('pubchem-cid-summaries.xml', 'r', buffering=16777216, encoding='utf-8') #the file should be clear of encoding errors.\n",
        "w = open('pubchem-cid-summaries-split-0.xml', 'w', buffering=16777216, encoding='utf-8')\n",
        "head = '<compound>';\n",
        "lines = 0;\n",
        "filenum = 0;\n",
        "filelen = 10000000\n",
        "\n",
        "for line in r:\n",
        "  w.write(line)\n",
        "  lines += 1\n",
        "  if lines >= filelen and line.find('</row>') != -1:\n",
        "    w.write('</compound>')\n",
        "    w.close()\n",
        "    filenum +=1\n",
        "    lines = 0;\n",
        "    w = open('pubchem-cid-summaries-split-'+str(filenum)+'.xml', 'w', buffering=16777216, encoding='utf-8')\n",
        "    w.write(head)\n",
        "w.close()\n",
        "r.close()"
      ]
    },
    {
      "cell_type": "code",
      "source": [
        "# then we write the cid and iso smiles to another tsv\n",
        "# by taking a peek at the xml file we can observe there is no namespace\n",
        "# yippee\n",
        "\n",
        "smilestsv = open('cid-smiles.tsv', 'w', encoding='utf-8')\n",
        "smilestsv.write('CID\\tSMILES\\n')\n",
        "\n",
        "for i in range(4):\n",
        "  print('pubchem-cid-summaries-split-'+str(i)+'.xml')\n",
        "  tree = et.parse('pubchem-cid-summaries-split-'+str(i)+'.xml')\n",
        "  root = tree.getroot()\n",
        "  for child in root:\n",
        "    smilestsv.write(child.find('cid').text + '\\t' + child.find('canonicalsmiles').text + '\\n')\n",
        "\n",
        "smilestsv.close()\n",
        "#thing = pd.read_xml('pubchem-cid-summaries.xml');"
      ],
      "metadata": {
        "id": "pEkeaCOK1kzS",
        "colab": {
          "base_uri": "https://localhost:8080/"
        },
        "outputId": "e5217eaf-e275-468f-a2af-721fdac8d2cb"
      },
      "execution_count": null,
      "outputs": [
        {
          "output_type": "stream",
          "name": "stdout",
          "text": [
            "pubchem-cid-summaries-split-0.xml\n",
            "pubchem-cid-summaries-split-1.xml\n",
            "pubchem-cid-summaries-split-2.xml\n",
            "pubchem-cid-summaries-split-3.xml\n"
          ]
        }
      ]
    },
    {
      "cell_type": "code",
      "source": [
        "del root\n",
        "del tree"
      ],
      "metadata": {
        "id": "qigUL6jsnDpG"
      },
      "execution_count": null,
      "outputs": []
    },
    {
      "cell_type": "markdown",
      "source": [
        "###combining the datasets"
      ],
      "metadata": {
        "id": "_l01uFDiQazy"
      }
    },
    {
      "cell_type": "code",
      "source": [
        "#map of pictograms to their hazard codes\n",
        "pict2code = {\n",
        "    'explosive': {'H200', 'H201', 'H202', 'H203', 'H204','H209','H210','H211','H240','H241'},\n",
        "    'flammable': {'H205', 'H206', 'H207','H208','H220','H221','H222','H223','H224','H225','H226','H227','H228','H229','H230','H231','H232','H240','H241','H242','H250','H251','H252','H260','H261','H282','H283'},\n",
        "    'oxidizer': {'H270','H271','H272'},\n",
        "    'pressurized': {'H280','H281','H282','H283','H284'},\n",
        "    'corrosive': {'H290','H314','H318'},\n",
        "    'toxic': {'H300','H301','H310','H311','H330','H331'},\n",
        "    'irritant': {'H204','H302','H312','H315','H317','H319','H332','H335','H336'},\n",
        "    'health hazard': {'H304','H305','H334','H340','H341','H350','H351','H360','H361','H370','H371','H372','H373'},\n",
        "    'environmental hazard': {'H400','H410','H411','H420'}\n",
        "}"
      ],
      "metadata": {
        "id": "2HCkatpoZXKK"
      },
      "execution_count": null,
      "outputs": []
    },
    {
      "cell_type": "code",
      "source": [
        "#first, reducing the ghs codes to a one-hot encoding of the pictograms:\n",
        "#       explosive, flammable, oxidizer, pressurized (??), corrosive, toxic, irritant, health hazard, environmental hazard\n",
        "ghsdf=tsvdf\n",
        "ghsdf['ghs-all'] = ghsdf['ghs-all'].apply(lambda x: '{\\'\\'}' if pd.isna(x) else x)\n",
        "for pict in pict2code:\n",
        "  print(pict)\n",
        "  ghsdf[pict]=ghsdf['ghs-all'].apply(lambda x: 1 if eval(str(x)) & pict2code[pict] else 0)"
      ],
      "metadata": {
        "id": "NzbKAJiIRCb1",
        "colab": {
          "base_uri": "https://localhost:8080/"
        },
        "outputId": "76187872-3ae0-4cb8-883c-0c5aa8f3e127"
      },
      "execution_count": null,
      "outputs": [
        {
          "output_type": "stream",
          "name": "stdout",
          "text": [
            "explosive\n",
            "flammable\n",
            "oxidizer\n",
            "pressurized\n",
            "corrosive\n",
            "toxic\n",
            "irritant\n",
            "health hazard\n",
            "environmental hazard\n"
          ]
        }
      ]
    },
    {
      "cell_type": "code",
      "source": [
        "smilesdf=pd.read_csv('cid-smiles.tsv', sep='\\t')\n",
        "overalldf = pd.merge(smilesdf, ghsdf, on='CID')\n",
        "overalldf = overalldf.drop(columns=['ghs-all'])"
      ],
      "metadata": {
        "id": "sTD_efFRQf_Y"
      },
      "execution_count": null,
      "outputs": []
    },
    {
      "cell_type": "markdown",
      "source": [
        "##data exploration"
      ],
      "metadata": {
        "id": "WMNEA4ikNyIW"
      }
    },
    {
      "cell_type": "code",
      "source": [
        "import seaborn as sns\n",
        "import matplotlib.pyplot as plt\n",
        "\n",
        "# note: data is already one-hot encoded\n",
        "overalldf"
      ],
      "metadata": {
        "id": "Vk6KcESNTSEq",
        "outputId": "e1e7ecc1-4938-4ea8-dfe9-aac7acf69735",
        "colab": {
          "base_uri": "https://localhost:8080/",
          "height": 461
        }
      },
      "execution_count": null,
      "outputs": [
        {
          "output_type": "execute_result",
          "data": {
            "text/plain": [
              "              CID                                             SMILES  \\\n",
              "0               4                                            CC(CN)O   \n",
              "1               6          C1=CC(=C(C=C1[N+](=O)[O-])[N+](=O)[O-])Cl   \n",
              "2               8                                CCC(C)(C(C(=O)O)O)O   \n",
              "3              11                                           C(CCl)Cl   \n",
              "4              12                              C1=C(C=C(C(=C1O)O)O)O   \n",
              "...           ...                                                ...   \n",
              "222473  171391221  C1=CC2=C(C(=C(C=C2C=C1NC(=O)NC3=CC4=CC(=C(C(=C...   \n",
              "222474  171391230  CC1=C(C2=C(C=C1)N=C(S2)C3=CC=C(C=C3)NC4=NC(=NC...   \n",
              "222475  171391231  CC1=CC=C(C=C1)S(=O)(=O)NC2=C3C(=CC(=C2)S(=O)(=...   \n",
              "222476  171391236  CC1=CC=CC=C1OC2=CC=CC=C2N=NC3=C(C4=C(C=C(C=C4C...   \n",
              "222477  171395671  CC1=CC2=C(C=C1C)N(C=N2)C3C(C(C(O3)CO)OP(=O)([O...   \n",
              "\n",
              "        explosive  flammable  oxidizer  pressurized  corrosive  toxic  \\\n",
              "0               0          0         0            0          1      0   \n",
              "1               0          0         0            0          1      1   \n",
              "2               0          0         0            0          0      0   \n",
              "3               0          1         0            0          0      1   \n",
              "4               0          0         0            0          1      0   \n",
              "...           ...        ...       ...          ...        ...    ...   \n",
              "222473          0          0         0            0          0      0   \n",
              "222474          0          0         0            0          0      0   \n",
              "222475          0          0         0            0          0      0   \n",
              "222476          0          0         0            0          0      0   \n",
              "222477          0          0         0            0          0      0   \n",
              "\n",
              "        irritant  health hazard  environmental hazard  \n",
              "0              1              0                     0  \n",
              "1              1              1                     1  \n",
              "2              1              0                     0  \n",
              "3              1              1                     1  \n",
              "4              1              0                     0  \n",
              "...          ...            ...                   ...  \n",
              "222473         0              0                     0  \n",
              "222474         0              0                     0  \n",
              "222475         1              0                     0  \n",
              "222476         0              0                     0  \n",
              "222477         0              1                     0  \n",
              "\n",
              "[222478 rows x 11 columns]"
            ],
            "text/html": [
              "\n",
              "  <div id=\"df-01a284b1-18b6-464a-a4de-36919688d321\" class=\"colab-df-container\">\n",
              "    <div>\n",
              "<style scoped>\n",
              "    .dataframe tbody tr th:only-of-type {\n",
              "        vertical-align: middle;\n",
              "    }\n",
              "\n",
              "    .dataframe tbody tr th {\n",
              "        vertical-align: top;\n",
              "    }\n",
              "\n",
              "    .dataframe thead th {\n",
              "        text-align: right;\n",
              "    }\n",
              "</style>\n",
              "<table border=\"1\" class=\"dataframe\">\n",
              "  <thead>\n",
              "    <tr style=\"text-align: right;\">\n",
              "      <th></th>\n",
              "      <th>CID</th>\n",
              "      <th>SMILES</th>\n",
              "      <th>explosive</th>\n",
              "      <th>flammable</th>\n",
              "      <th>oxidizer</th>\n",
              "      <th>pressurized</th>\n",
              "      <th>corrosive</th>\n",
              "      <th>toxic</th>\n",
              "      <th>irritant</th>\n",
              "      <th>health hazard</th>\n",
              "      <th>environmental hazard</th>\n",
              "    </tr>\n",
              "  </thead>\n",
              "  <tbody>\n",
              "    <tr>\n",
              "      <th>0</th>\n",
              "      <td>4</td>\n",
              "      <td>CC(CN)O</td>\n",
              "      <td>0</td>\n",
              "      <td>0</td>\n",
              "      <td>0</td>\n",
              "      <td>0</td>\n",
              "      <td>1</td>\n",
              "      <td>0</td>\n",
              "      <td>1</td>\n",
              "      <td>0</td>\n",
              "      <td>0</td>\n",
              "    </tr>\n",
              "    <tr>\n",
              "      <th>1</th>\n",
              "      <td>6</td>\n",
              "      <td>C1=CC(=C(C=C1[N+](=O)[O-])[N+](=O)[O-])Cl</td>\n",
              "      <td>0</td>\n",
              "      <td>0</td>\n",
              "      <td>0</td>\n",
              "      <td>0</td>\n",
              "      <td>1</td>\n",
              "      <td>1</td>\n",
              "      <td>1</td>\n",
              "      <td>1</td>\n",
              "      <td>1</td>\n",
              "    </tr>\n",
              "    <tr>\n",
              "      <th>2</th>\n",
              "      <td>8</td>\n",
              "      <td>CCC(C)(C(C(=O)O)O)O</td>\n",
              "      <td>0</td>\n",
              "      <td>0</td>\n",
              "      <td>0</td>\n",
              "      <td>0</td>\n",
              "      <td>0</td>\n",
              "      <td>0</td>\n",
              "      <td>1</td>\n",
              "      <td>0</td>\n",
              "      <td>0</td>\n",
              "    </tr>\n",
              "    <tr>\n",
              "      <th>3</th>\n",
              "      <td>11</td>\n",
              "      <td>C(CCl)Cl</td>\n",
              "      <td>0</td>\n",
              "      <td>1</td>\n",
              "      <td>0</td>\n",
              "      <td>0</td>\n",
              "      <td>0</td>\n",
              "      <td>1</td>\n",
              "      <td>1</td>\n",
              "      <td>1</td>\n",
              "      <td>1</td>\n",
              "    </tr>\n",
              "    <tr>\n",
              "      <th>4</th>\n",
              "      <td>12</td>\n",
              "      <td>C1=C(C=C(C(=C1O)O)O)O</td>\n",
              "      <td>0</td>\n",
              "      <td>0</td>\n",
              "      <td>0</td>\n",
              "      <td>0</td>\n",
              "      <td>1</td>\n",
              "      <td>0</td>\n",
              "      <td>1</td>\n",
              "      <td>0</td>\n",
              "      <td>0</td>\n",
              "    </tr>\n",
              "    <tr>\n",
              "      <th>...</th>\n",
              "      <td>...</td>\n",
              "      <td>...</td>\n",
              "      <td>...</td>\n",
              "      <td>...</td>\n",
              "      <td>...</td>\n",
              "      <td>...</td>\n",
              "      <td>...</td>\n",
              "      <td>...</td>\n",
              "      <td>...</td>\n",
              "      <td>...</td>\n",
              "      <td>...</td>\n",
              "    </tr>\n",
              "    <tr>\n",
              "      <th>222473</th>\n",
              "      <td>171391221</td>\n",
              "      <td>C1=CC2=C(C(=C(C=C2C=C1NC(=O)NC3=CC4=CC(=C(C(=C...</td>\n",
              "      <td>0</td>\n",
              "      <td>0</td>\n",
              "      <td>0</td>\n",
              "      <td>0</td>\n",
              "      <td>0</td>\n",
              "      <td>0</td>\n",
              "      <td>0</td>\n",
              "      <td>0</td>\n",
              "      <td>0</td>\n",
              "    </tr>\n",
              "    <tr>\n",
              "      <th>222474</th>\n",
              "      <td>171391230</td>\n",
              "      <td>CC1=C(C2=C(C=C1)N=C(S2)C3=CC=C(C=C3)NC4=NC(=NC...</td>\n",
              "      <td>0</td>\n",
              "      <td>0</td>\n",
              "      <td>0</td>\n",
              "      <td>0</td>\n",
              "      <td>0</td>\n",
              "      <td>0</td>\n",
              "      <td>0</td>\n",
              "      <td>0</td>\n",
              "      <td>0</td>\n",
              "    </tr>\n",
              "    <tr>\n",
              "      <th>222475</th>\n",
              "      <td>171391231</td>\n",
              "      <td>CC1=CC=C(C=C1)S(=O)(=O)NC2=C3C(=CC(=C2)S(=O)(=...</td>\n",
              "      <td>0</td>\n",
              "      <td>0</td>\n",
              "      <td>0</td>\n",
              "      <td>0</td>\n",
              "      <td>0</td>\n",
              "      <td>0</td>\n",
              "      <td>1</td>\n",
              "      <td>0</td>\n",
              "      <td>0</td>\n",
              "    </tr>\n",
              "    <tr>\n",
              "      <th>222476</th>\n",
              "      <td>171391236</td>\n",
              "      <td>CC1=CC=CC=C1OC2=CC=CC=C2N=NC3=C(C4=C(C=C(C=C4C...</td>\n",
              "      <td>0</td>\n",
              "      <td>0</td>\n",
              "      <td>0</td>\n",
              "      <td>0</td>\n",
              "      <td>0</td>\n",
              "      <td>0</td>\n",
              "      <td>0</td>\n",
              "      <td>0</td>\n",
              "      <td>0</td>\n",
              "    </tr>\n",
              "    <tr>\n",
              "      <th>222477</th>\n",
              "      <td>171395671</td>\n",
              "      <td>CC1=CC2=C(C=C1C)N(C=N2)C3C(C(C(O3)CO)OP(=O)([O...</td>\n",
              "      <td>0</td>\n",
              "      <td>0</td>\n",
              "      <td>0</td>\n",
              "      <td>0</td>\n",
              "      <td>0</td>\n",
              "      <td>0</td>\n",
              "      <td>0</td>\n",
              "      <td>1</td>\n",
              "      <td>0</td>\n",
              "    </tr>\n",
              "  </tbody>\n",
              "</table>\n",
              "<p>222478 rows × 11 columns</p>\n",
              "</div>\n",
              "    <div class=\"colab-df-buttons\">\n",
              "\n",
              "  <div class=\"colab-df-container\">\n",
              "    <button class=\"colab-df-convert\" onclick=\"convertToInteractive('df-01a284b1-18b6-464a-a4de-36919688d321')\"\n",
              "            title=\"Convert this dataframe to an interactive table.\"\n",
              "            style=\"display:none;\">\n",
              "\n",
              "  <svg xmlns=\"http://www.w3.org/2000/svg\" height=\"24px\" viewBox=\"0 -960 960 960\">\n",
              "    <path d=\"M120-120v-720h720v720H120Zm60-500h600v-160H180v160Zm220 220h160v-160H400v160Zm0 220h160v-160H400v160ZM180-400h160v-160H180v160Zm440 0h160v-160H620v160ZM180-180h160v-160H180v160Zm440 0h160v-160H620v160Z\"/>\n",
              "  </svg>\n",
              "    </button>\n",
              "\n",
              "  <style>\n",
              "    .colab-df-container {\n",
              "      display:flex;\n",
              "      gap: 12px;\n",
              "    }\n",
              "\n",
              "    .colab-df-convert {\n",
              "      background-color: #E8F0FE;\n",
              "      border: none;\n",
              "      border-radius: 50%;\n",
              "      cursor: pointer;\n",
              "      display: none;\n",
              "      fill: #1967D2;\n",
              "      height: 32px;\n",
              "      padding: 0 0 0 0;\n",
              "      width: 32px;\n",
              "    }\n",
              "\n",
              "    .colab-df-convert:hover {\n",
              "      background-color: #E2EBFA;\n",
              "      box-shadow: 0px 1px 2px rgba(60, 64, 67, 0.3), 0px 1px 3px 1px rgba(60, 64, 67, 0.15);\n",
              "      fill: #174EA6;\n",
              "    }\n",
              "\n",
              "    .colab-df-buttons div {\n",
              "      margin-bottom: 4px;\n",
              "    }\n",
              "\n",
              "    [theme=dark] .colab-df-convert {\n",
              "      background-color: #3B4455;\n",
              "      fill: #D2E3FC;\n",
              "    }\n",
              "\n",
              "    [theme=dark] .colab-df-convert:hover {\n",
              "      background-color: #434B5C;\n",
              "      box-shadow: 0px 1px 3px 1px rgba(0, 0, 0, 0.15);\n",
              "      filter: drop-shadow(0px 1px 2px rgba(0, 0, 0, 0.3));\n",
              "      fill: #FFFFFF;\n",
              "    }\n",
              "  </style>\n",
              "\n",
              "    <script>\n",
              "      const buttonEl =\n",
              "        document.querySelector('#df-01a284b1-18b6-464a-a4de-36919688d321 button.colab-df-convert');\n",
              "      buttonEl.style.display =\n",
              "        google.colab.kernel.accessAllowed ? 'block' : 'none';\n",
              "\n",
              "      async function convertToInteractive(key) {\n",
              "        const element = document.querySelector('#df-01a284b1-18b6-464a-a4de-36919688d321');\n",
              "        const dataTable =\n",
              "          await google.colab.kernel.invokeFunction('convertToInteractive',\n",
              "                                                    [key], {});\n",
              "        if (!dataTable) return;\n",
              "\n",
              "        const docLinkHtml = 'Like what you see? Visit the ' +\n",
              "          '<a target=\"_blank\" href=https://colab.research.google.com/notebooks/data_table.ipynb>data table notebook</a>'\n",
              "          + ' to learn more about interactive tables.';\n",
              "        element.innerHTML = '';\n",
              "        dataTable['output_type'] = 'display_data';\n",
              "        await google.colab.output.renderOutput(dataTable, element);\n",
              "        const docLink = document.createElement('div');\n",
              "        docLink.innerHTML = docLinkHtml;\n",
              "        element.appendChild(docLink);\n",
              "      }\n",
              "    </script>\n",
              "  </div>\n",
              "\n",
              "\n",
              "<div id=\"df-bd491e18-6e42-4b5d-a817-49c2c351d021\">\n",
              "  <button class=\"colab-df-quickchart\" onclick=\"quickchart('df-bd491e18-6e42-4b5d-a817-49c2c351d021')\"\n",
              "            title=\"Suggest charts\"\n",
              "            style=\"display:none;\">\n",
              "\n",
              "<svg xmlns=\"http://www.w3.org/2000/svg\" height=\"24px\"viewBox=\"0 0 24 24\"\n",
              "     width=\"24px\">\n",
              "    <g>\n",
              "        <path d=\"M19 3H5c-1.1 0-2 .9-2 2v14c0 1.1.9 2 2 2h14c1.1 0 2-.9 2-2V5c0-1.1-.9-2-2-2zM9 17H7v-7h2v7zm4 0h-2V7h2v10zm4 0h-2v-4h2v4z\"/>\n",
              "    </g>\n",
              "</svg>\n",
              "  </button>\n",
              "\n",
              "<style>\n",
              "  .colab-df-quickchart {\n",
              "      --bg-color: #E8F0FE;\n",
              "      --fill-color: #1967D2;\n",
              "      --hover-bg-color: #E2EBFA;\n",
              "      --hover-fill-color: #174EA6;\n",
              "      --disabled-fill-color: #AAA;\n",
              "      --disabled-bg-color: #DDD;\n",
              "  }\n",
              "\n",
              "  [theme=dark] .colab-df-quickchart {\n",
              "      --bg-color: #3B4455;\n",
              "      --fill-color: #D2E3FC;\n",
              "      --hover-bg-color: #434B5C;\n",
              "      --hover-fill-color: #FFFFFF;\n",
              "      --disabled-bg-color: #3B4455;\n",
              "      --disabled-fill-color: #666;\n",
              "  }\n",
              "\n",
              "  .colab-df-quickchart {\n",
              "    background-color: var(--bg-color);\n",
              "    border: none;\n",
              "    border-radius: 50%;\n",
              "    cursor: pointer;\n",
              "    display: none;\n",
              "    fill: var(--fill-color);\n",
              "    height: 32px;\n",
              "    padding: 0;\n",
              "    width: 32px;\n",
              "  }\n",
              "\n",
              "  .colab-df-quickchart:hover {\n",
              "    background-color: var(--hover-bg-color);\n",
              "    box-shadow: 0 1px 2px rgba(60, 64, 67, 0.3), 0 1px 3px 1px rgba(60, 64, 67, 0.15);\n",
              "    fill: var(--button-hover-fill-color);\n",
              "  }\n",
              "\n",
              "  .colab-df-quickchart-complete:disabled,\n",
              "  .colab-df-quickchart-complete:disabled:hover {\n",
              "    background-color: var(--disabled-bg-color);\n",
              "    fill: var(--disabled-fill-color);\n",
              "    box-shadow: none;\n",
              "  }\n",
              "\n",
              "  .colab-df-spinner {\n",
              "    border: 2px solid var(--fill-color);\n",
              "    border-color: transparent;\n",
              "    border-bottom-color: var(--fill-color);\n",
              "    animation:\n",
              "      spin 1s steps(1) infinite;\n",
              "  }\n",
              "\n",
              "  @keyframes spin {\n",
              "    0% {\n",
              "      border-color: transparent;\n",
              "      border-bottom-color: var(--fill-color);\n",
              "      border-left-color: var(--fill-color);\n",
              "    }\n",
              "    20% {\n",
              "      border-color: transparent;\n",
              "      border-left-color: var(--fill-color);\n",
              "      border-top-color: var(--fill-color);\n",
              "    }\n",
              "    30% {\n",
              "      border-color: transparent;\n",
              "      border-left-color: var(--fill-color);\n",
              "      border-top-color: var(--fill-color);\n",
              "      border-right-color: var(--fill-color);\n",
              "    }\n",
              "    40% {\n",
              "      border-color: transparent;\n",
              "      border-right-color: var(--fill-color);\n",
              "      border-top-color: var(--fill-color);\n",
              "    }\n",
              "    60% {\n",
              "      border-color: transparent;\n",
              "      border-right-color: var(--fill-color);\n",
              "    }\n",
              "    80% {\n",
              "      border-color: transparent;\n",
              "      border-right-color: var(--fill-color);\n",
              "      border-bottom-color: var(--fill-color);\n",
              "    }\n",
              "    90% {\n",
              "      border-color: transparent;\n",
              "      border-bottom-color: var(--fill-color);\n",
              "    }\n",
              "  }\n",
              "</style>\n",
              "\n",
              "  <script>\n",
              "    async function quickchart(key) {\n",
              "      const quickchartButtonEl =\n",
              "        document.querySelector('#' + key + ' button');\n",
              "      quickchartButtonEl.disabled = true;  // To prevent multiple clicks.\n",
              "      quickchartButtonEl.classList.add('colab-df-spinner');\n",
              "      try {\n",
              "        const charts = await google.colab.kernel.invokeFunction(\n",
              "            'suggestCharts', [key], {});\n",
              "      } catch (error) {\n",
              "        console.error('Error during call to suggestCharts:', error);\n",
              "      }\n",
              "      quickchartButtonEl.classList.remove('colab-df-spinner');\n",
              "      quickchartButtonEl.classList.add('colab-df-quickchart-complete');\n",
              "    }\n",
              "    (() => {\n",
              "      let quickchartButtonEl =\n",
              "        document.querySelector('#df-bd491e18-6e42-4b5d-a817-49c2c351d021 button');\n",
              "      quickchartButtonEl.style.display =\n",
              "        google.colab.kernel.accessAllowed ? 'block' : 'none';\n",
              "    })();\n",
              "  </script>\n",
              "</div>\n",
              "\n",
              "  <div id=\"id_5f1c20e7-81f2-4a65-abc7-fb900528e8d6\">\n",
              "    <style>\n",
              "      .colab-df-generate {\n",
              "        background-color: #E8F0FE;\n",
              "        border: none;\n",
              "        border-radius: 50%;\n",
              "        cursor: pointer;\n",
              "        display: none;\n",
              "        fill: #1967D2;\n",
              "        height: 32px;\n",
              "        padding: 0 0 0 0;\n",
              "        width: 32px;\n",
              "      }\n",
              "\n",
              "      .colab-df-generate:hover {\n",
              "        background-color: #E2EBFA;\n",
              "        box-shadow: 0px 1px 2px rgba(60, 64, 67, 0.3), 0px 1px 3px 1px rgba(60, 64, 67, 0.15);\n",
              "        fill: #174EA6;\n",
              "      }\n",
              "\n",
              "      [theme=dark] .colab-df-generate {\n",
              "        background-color: #3B4455;\n",
              "        fill: #D2E3FC;\n",
              "      }\n",
              "\n",
              "      [theme=dark] .colab-df-generate:hover {\n",
              "        background-color: #434B5C;\n",
              "        box-shadow: 0px 1px 3px 1px rgba(0, 0, 0, 0.15);\n",
              "        filter: drop-shadow(0px 1px 2px rgba(0, 0, 0, 0.3));\n",
              "        fill: #FFFFFF;\n",
              "      }\n",
              "    </style>\n",
              "    <button class=\"colab-df-generate\" onclick=\"generateWithVariable('overalldf')\"\n",
              "            title=\"Generate code using this dataframe.\"\n",
              "            style=\"display:none;\">\n",
              "\n",
              "  <svg xmlns=\"http://www.w3.org/2000/svg\" height=\"24px\"viewBox=\"0 0 24 24\"\n",
              "       width=\"24px\">\n",
              "    <path d=\"M7,19H8.4L18.45,9,17,7.55,7,17.6ZM5,21V16.75L18.45,3.32a2,2,0,0,1,2.83,0l1.4,1.43a1.91,1.91,0,0,1,.58,1.4,1.91,1.91,0,0,1-.58,1.4L9.25,21ZM18.45,9,17,7.55Zm-12,3A5.31,5.31,0,0,0,4.9,8.1,5.31,5.31,0,0,0,1,6.5,5.31,5.31,0,0,0,4.9,4.9,5.31,5.31,0,0,0,6.5,1,5.31,5.31,0,0,0,8.1,4.9,5.31,5.31,0,0,0,12,6.5,5.46,5.46,0,0,0,6.5,12Z\"/>\n",
              "  </svg>\n",
              "    </button>\n",
              "    <script>\n",
              "      (() => {\n",
              "      const buttonEl =\n",
              "        document.querySelector('#id_5f1c20e7-81f2-4a65-abc7-fb900528e8d6 button.colab-df-generate');\n",
              "      buttonEl.style.display =\n",
              "        google.colab.kernel.accessAllowed ? 'block' : 'none';\n",
              "\n",
              "      buttonEl.onclick = () => {\n",
              "        google.colab.notebook.generateWithVariable('overalldf');\n",
              "      }\n",
              "      })();\n",
              "    </script>\n",
              "  </div>\n",
              "\n",
              "    </div>\n",
              "  </div>\n"
            ],
            "application/vnd.google.colaboratory.intrinsic+json": {
              "type": "dataframe",
              "variable_name": "overalldf"
            }
          },
          "metadata": {},
          "execution_count": 56
        }
      ]
    },
    {
      "cell_type": "code",
      "source": [
        "# check if there are missing values in any columns\n",
        "# chatgpt prompt: how to check if observations are missing values\n",
        "# False: indicates no missing values yay\n",
        "\n",
        "print(overalldf.isnull().values.any())"
      ],
      "metadata": {
        "colab": {
          "base_uri": "https://localhost:8080/"
        },
        "id": "Iwr83t4Rb7g8",
        "outputId": "31287a33-d330-4644-9948-108f4fe63a86"
      },
      "execution_count": null,
      "outputs": [
        {
          "output_type": "stream",
          "name": "stdout",
          "text": [
            "False\n"
          ]
        }
      ]
    },
    {
      "cell_type": "code",
      "source": [
        "# basic description of dataframe\n",
        "\n",
        "print(overalldf.info())"
      ],
      "metadata": {
        "colab": {
          "base_uri": "https://localhost:8080/"
        },
        "id": "Nv0-pf6kjrUX",
        "outputId": "de101588-6a3b-4b21-be01-8984af0e0dc7"
      },
      "execution_count": null,
      "outputs": [
        {
          "output_type": "stream",
          "name": "stdout",
          "text": [
            "<class 'pandas.core.frame.DataFrame'>\n",
            "RangeIndex: 222478 entries, 0 to 222477\n",
            "Data columns (total 11 columns):\n",
            " #   Column                Non-Null Count   Dtype \n",
            "---  ------                --------------   ----- \n",
            " 0   CID                   222478 non-null  int64 \n",
            " 1   SMILES                222478 non-null  object\n",
            " 2   explosive             222478 non-null  int64 \n",
            " 3   flammable             222478 non-null  int64 \n",
            " 4   oxidizer              222478 non-null  int64 \n",
            " 5   pressurized           222478 non-null  int64 \n",
            " 6   corrosive             222478 non-null  int64 \n",
            " 7   toxic                 222478 non-null  int64 \n",
            " 8   irritant              222478 non-null  int64 \n",
            " 9   health hazard         222478 non-null  int64 \n",
            " 10  environmental hazard  222478 non-null  int64 \n",
            "dtypes: int64(10), object(1)\n",
            "memory usage: 18.7+ MB\n",
            "None\n"
          ]
        }
      ]
    },
    {
      "cell_type": "code",
      "source": [
        "ghs = (overalldf.drop(columns=['SMILES','CID']))\n",
        "ghs"
      ],
      "metadata": {
        "colab": {
          "base_uri": "https://localhost:8080/",
          "height": 461
        },
        "id": "9yzW94pYcQ-D",
        "outputId": "21999557-f98f-4800-90b3-a4f7db21b86d"
      },
      "execution_count": null,
      "outputs": [
        {
          "output_type": "execute_result",
          "data": {
            "text/plain": [
              "        explosive  flammable  oxidizer  pressurized  corrosive  toxic  \\\n",
              "0               0          0         0            0          1      0   \n",
              "1               0          0         0            0          1      1   \n",
              "2               0          0         0            0          0      0   \n",
              "3               0          1         0            0          0      1   \n",
              "4               0          0         0            0          1      0   \n",
              "...           ...        ...       ...          ...        ...    ...   \n",
              "222473          0          0         0            0          0      0   \n",
              "222474          0          0         0            0          0      0   \n",
              "222475          0          0         0            0          0      0   \n",
              "222476          0          0         0            0          0      0   \n",
              "222477          0          0         0            0          0      0   \n",
              "\n",
              "        irritant  health hazard  environmental hazard  \n",
              "0              1              0                     0  \n",
              "1              1              1                     1  \n",
              "2              1              0                     0  \n",
              "3              1              1                     1  \n",
              "4              1              0                     0  \n",
              "...          ...            ...                   ...  \n",
              "222473         0              0                     0  \n",
              "222474         0              0                     0  \n",
              "222475         1              0                     0  \n",
              "222476         0              0                     0  \n",
              "222477         0              1                     0  \n",
              "\n",
              "[222478 rows x 9 columns]"
            ],
            "text/html": [
              "\n",
              "  <div id=\"df-5d284b12-7648-49b3-8623-fcac0c7f00a5\" class=\"colab-df-container\">\n",
              "    <div>\n",
              "<style scoped>\n",
              "    .dataframe tbody tr th:only-of-type {\n",
              "        vertical-align: middle;\n",
              "    }\n",
              "\n",
              "    .dataframe tbody tr th {\n",
              "        vertical-align: top;\n",
              "    }\n",
              "\n",
              "    .dataframe thead th {\n",
              "        text-align: right;\n",
              "    }\n",
              "</style>\n",
              "<table border=\"1\" class=\"dataframe\">\n",
              "  <thead>\n",
              "    <tr style=\"text-align: right;\">\n",
              "      <th></th>\n",
              "      <th>explosive</th>\n",
              "      <th>flammable</th>\n",
              "      <th>oxidizer</th>\n",
              "      <th>pressurized</th>\n",
              "      <th>corrosive</th>\n",
              "      <th>toxic</th>\n",
              "      <th>irritant</th>\n",
              "      <th>health hazard</th>\n",
              "      <th>environmental hazard</th>\n",
              "    </tr>\n",
              "  </thead>\n",
              "  <tbody>\n",
              "    <tr>\n",
              "      <th>0</th>\n",
              "      <td>0</td>\n",
              "      <td>0</td>\n",
              "      <td>0</td>\n",
              "      <td>0</td>\n",
              "      <td>1</td>\n",
              "      <td>0</td>\n",
              "      <td>1</td>\n",
              "      <td>0</td>\n",
              "      <td>0</td>\n",
              "    </tr>\n",
              "    <tr>\n",
              "      <th>1</th>\n",
              "      <td>0</td>\n",
              "      <td>0</td>\n",
              "      <td>0</td>\n",
              "      <td>0</td>\n",
              "      <td>1</td>\n",
              "      <td>1</td>\n",
              "      <td>1</td>\n",
              "      <td>1</td>\n",
              "      <td>1</td>\n",
              "    </tr>\n",
              "    <tr>\n",
              "      <th>2</th>\n",
              "      <td>0</td>\n",
              "      <td>0</td>\n",
              "      <td>0</td>\n",
              "      <td>0</td>\n",
              "      <td>0</td>\n",
              "      <td>0</td>\n",
              "      <td>1</td>\n",
              "      <td>0</td>\n",
              "      <td>0</td>\n",
              "    </tr>\n",
              "    <tr>\n",
              "      <th>3</th>\n",
              "      <td>0</td>\n",
              "      <td>1</td>\n",
              "      <td>0</td>\n",
              "      <td>0</td>\n",
              "      <td>0</td>\n",
              "      <td>1</td>\n",
              "      <td>1</td>\n",
              "      <td>1</td>\n",
              "      <td>1</td>\n",
              "    </tr>\n",
              "    <tr>\n",
              "      <th>4</th>\n",
              "      <td>0</td>\n",
              "      <td>0</td>\n",
              "      <td>0</td>\n",
              "      <td>0</td>\n",
              "      <td>1</td>\n",
              "      <td>0</td>\n",
              "      <td>1</td>\n",
              "      <td>0</td>\n",
              "      <td>0</td>\n",
              "    </tr>\n",
              "    <tr>\n",
              "      <th>...</th>\n",
              "      <td>...</td>\n",
              "      <td>...</td>\n",
              "      <td>...</td>\n",
              "      <td>...</td>\n",
              "      <td>...</td>\n",
              "      <td>...</td>\n",
              "      <td>...</td>\n",
              "      <td>...</td>\n",
              "      <td>...</td>\n",
              "    </tr>\n",
              "    <tr>\n",
              "      <th>222473</th>\n",
              "      <td>0</td>\n",
              "      <td>0</td>\n",
              "      <td>0</td>\n",
              "      <td>0</td>\n",
              "      <td>0</td>\n",
              "      <td>0</td>\n",
              "      <td>0</td>\n",
              "      <td>0</td>\n",
              "      <td>0</td>\n",
              "    </tr>\n",
              "    <tr>\n",
              "      <th>222474</th>\n",
              "      <td>0</td>\n",
              "      <td>0</td>\n",
              "      <td>0</td>\n",
              "      <td>0</td>\n",
              "      <td>0</td>\n",
              "      <td>0</td>\n",
              "      <td>0</td>\n",
              "      <td>0</td>\n",
              "      <td>0</td>\n",
              "    </tr>\n",
              "    <tr>\n",
              "      <th>222475</th>\n",
              "      <td>0</td>\n",
              "      <td>0</td>\n",
              "      <td>0</td>\n",
              "      <td>0</td>\n",
              "      <td>0</td>\n",
              "      <td>0</td>\n",
              "      <td>1</td>\n",
              "      <td>0</td>\n",
              "      <td>0</td>\n",
              "    </tr>\n",
              "    <tr>\n",
              "      <th>222476</th>\n",
              "      <td>0</td>\n",
              "      <td>0</td>\n",
              "      <td>0</td>\n",
              "      <td>0</td>\n",
              "      <td>0</td>\n",
              "      <td>0</td>\n",
              "      <td>0</td>\n",
              "      <td>0</td>\n",
              "      <td>0</td>\n",
              "    </tr>\n",
              "    <tr>\n",
              "      <th>222477</th>\n",
              "      <td>0</td>\n",
              "      <td>0</td>\n",
              "      <td>0</td>\n",
              "      <td>0</td>\n",
              "      <td>0</td>\n",
              "      <td>0</td>\n",
              "      <td>0</td>\n",
              "      <td>1</td>\n",
              "      <td>0</td>\n",
              "    </tr>\n",
              "  </tbody>\n",
              "</table>\n",
              "<p>222478 rows × 9 columns</p>\n",
              "</div>\n",
              "    <div class=\"colab-df-buttons\">\n",
              "\n",
              "  <div class=\"colab-df-container\">\n",
              "    <button class=\"colab-df-convert\" onclick=\"convertToInteractive('df-5d284b12-7648-49b3-8623-fcac0c7f00a5')\"\n",
              "            title=\"Convert this dataframe to an interactive table.\"\n",
              "            style=\"display:none;\">\n",
              "\n",
              "  <svg xmlns=\"http://www.w3.org/2000/svg\" height=\"24px\" viewBox=\"0 -960 960 960\">\n",
              "    <path d=\"M120-120v-720h720v720H120Zm60-500h600v-160H180v160Zm220 220h160v-160H400v160Zm0 220h160v-160H400v160ZM180-400h160v-160H180v160Zm440 0h160v-160H620v160ZM180-180h160v-160H180v160Zm440 0h160v-160H620v160Z\"/>\n",
              "  </svg>\n",
              "    </button>\n",
              "\n",
              "  <style>\n",
              "    .colab-df-container {\n",
              "      display:flex;\n",
              "      gap: 12px;\n",
              "    }\n",
              "\n",
              "    .colab-df-convert {\n",
              "      background-color: #E8F0FE;\n",
              "      border: none;\n",
              "      border-radius: 50%;\n",
              "      cursor: pointer;\n",
              "      display: none;\n",
              "      fill: #1967D2;\n",
              "      height: 32px;\n",
              "      padding: 0 0 0 0;\n",
              "      width: 32px;\n",
              "    }\n",
              "\n",
              "    .colab-df-convert:hover {\n",
              "      background-color: #E2EBFA;\n",
              "      box-shadow: 0px 1px 2px rgba(60, 64, 67, 0.3), 0px 1px 3px 1px rgba(60, 64, 67, 0.15);\n",
              "      fill: #174EA6;\n",
              "    }\n",
              "\n",
              "    .colab-df-buttons div {\n",
              "      margin-bottom: 4px;\n",
              "    }\n",
              "\n",
              "    [theme=dark] .colab-df-convert {\n",
              "      background-color: #3B4455;\n",
              "      fill: #D2E3FC;\n",
              "    }\n",
              "\n",
              "    [theme=dark] .colab-df-convert:hover {\n",
              "      background-color: #434B5C;\n",
              "      box-shadow: 0px 1px 3px 1px rgba(0, 0, 0, 0.15);\n",
              "      filter: drop-shadow(0px 1px 2px rgba(0, 0, 0, 0.3));\n",
              "      fill: #FFFFFF;\n",
              "    }\n",
              "  </style>\n",
              "\n",
              "    <script>\n",
              "      const buttonEl =\n",
              "        document.querySelector('#df-5d284b12-7648-49b3-8623-fcac0c7f00a5 button.colab-df-convert');\n",
              "      buttonEl.style.display =\n",
              "        google.colab.kernel.accessAllowed ? 'block' : 'none';\n",
              "\n",
              "      async function convertToInteractive(key) {\n",
              "        const element = document.querySelector('#df-5d284b12-7648-49b3-8623-fcac0c7f00a5');\n",
              "        const dataTable =\n",
              "          await google.colab.kernel.invokeFunction('convertToInteractive',\n",
              "                                                    [key], {});\n",
              "        if (!dataTable) return;\n",
              "\n",
              "        const docLinkHtml = 'Like what you see? Visit the ' +\n",
              "          '<a target=\"_blank\" href=https://colab.research.google.com/notebooks/data_table.ipynb>data table notebook</a>'\n",
              "          + ' to learn more about interactive tables.';\n",
              "        element.innerHTML = '';\n",
              "        dataTable['output_type'] = 'display_data';\n",
              "        await google.colab.output.renderOutput(dataTable, element);\n",
              "        const docLink = document.createElement('div');\n",
              "        docLink.innerHTML = docLinkHtml;\n",
              "        element.appendChild(docLink);\n",
              "      }\n",
              "    </script>\n",
              "  </div>\n",
              "\n",
              "\n",
              "<div id=\"df-a392c886-d249-4412-a50e-d6824d3da689\">\n",
              "  <button class=\"colab-df-quickchart\" onclick=\"quickchart('df-a392c886-d249-4412-a50e-d6824d3da689')\"\n",
              "            title=\"Suggest charts\"\n",
              "            style=\"display:none;\">\n",
              "\n",
              "<svg xmlns=\"http://www.w3.org/2000/svg\" height=\"24px\"viewBox=\"0 0 24 24\"\n",
              "     width=\"24px\">\n",
              "    <g>\n",
              "        <path d=\"M19 3H5c-1.1 0-2 .9-2 2v14c0 1.1.9 2 2 2h14c1.1 0 2-.9 2-2V5c0-1.1-.9-2-2-2zM9 17H7v-7h2v7zm4 0h-2V7h2v10zm4 0h-2v-4h2v4z\"/>\n",
              "    </g>\n",
              "</svg>\n",
              "  </button>\n",
              "\n",
              "<style>\n",
              "  .colab-df-quickchart {\n",
              "      --bg-color: #E8F0FE;\n",
              "      --fill-color: #1967D2;\n",
              "      --hover-bg-color: #E2EBFA;\n",
              "      --hover-fill-color: #174EA6;\n",
              "      --disabled-fill-color: #AAA;\n",
              "      --disabled-bg-color: #DDD;\n",
              "  }\n",
              "\n",
              "  [theme=dark] .colab-df-quickchart {\n",
              "      --bg-color: #3B4455;\n",
              "      --fill-color: #D2E3FC;\n",
              "      --hover-bg-color: #434B5C;\n",
              "      --hover-fill-color: #FFFFFF;\n",
              "      --disabled-bg-color: #3B4455;\n",
              "      --disabled-fill-color: #666;\n",
              "  }\n",
              "\n",
              "  .colab-df-quickchart {\n",
              "    background-color: var(--bg-color);\n",
              "    border: none;\n",
              "    border-radius: 50%;\n",
              "    cursor: pointer;\n",
              "    display: none;\n",
              "    fill: var(--fill-color);\n",
              "    height: 32px;\n",
              "    padding: 0;\n",
              "    width: 32px;\n",
              "  }\n",
              "\n",
              "  .colab-df-quickchart:hover {\n",
              "    background-color: var(--hover-bg-color);\n",
              "    box-shadow: 0 1px 2px rgba(60, 64, 67, 0.3), 0 1px 3px 1px rgba(60, 64, 67, 0.15);\n",
              "    fill: var(--button-hover-fill-color);\n",
              "  }\n",
              "\n",
              "  .colab-df-quickchart-complete:disabled,\n",
              "  .colab-df-quickchart-complete:disabled:hover {\n",
              "    background-color: var(--disabled-bg-color);\n",
              "    fill: var(--disabled-fill-color);\n",
              "    box-shadow: none;\n",
              "  }\n",
              "\n",
              "  .colab-df-spinner {\n",
              "    border: 2px solid var(--fill-color);\n",
              "    border-color: transparent;\n",
              "    border-bottom-color: var(--fill-color);\n",
              "    animation:\n",
              "      spin 1s steps(1) infinite;\n",
              "  }\n",
              "\n",
              "  @keyframes spin {\n",
              "    0% {\n",
              "      border-color: transparent;\n",
              "      border-bottom-color: var(--fill-color);\n",
              "      border-left-color: var(--fill-color);\n",
              "    }\n",
              "    20% {\n",
              "      border-color: transparent;\n",
              "      border-left-color: var(--fill-color);\n",
              "      border-top-color: var(--fill-color);\n",
              "    }\n",
              "    30% {\n",
              "      border-color: transparent;\n",
              "      border-left-color: var(--fill-color);\n",
              "      border-top-color: var(--fill-color);\n",
              "      border-right-color: var(--fill-color);\n",
              "    }\n",
              "    40% {\n",
              "      border-color: transparent;\n",
              "      border-right-color: var(--fill-color);\n",
              "      border-top-color: var(--fill-color);\n",
              "    }\n",
              "    60% {\n",
              "      border-color: transparent;\n",
              "      border-right-color: var(--fill-color);\n",
              "    }\n",
              "    80% {\n",
              "      border-color: transparent;\n",
              "      border-right-color: var(--fill-color);\n",
              "      border-bottom-color: var(--fill-color);\n",
              "    }\n",
              "    90% {\n",
              "      border-color: transparent;\n",
              "      border-bottom-color: var(--fill-color);\n",
              "    }\n",
              "  }\n",
              "</style>\n",
              "\n",
              "  <script>\n",
              "    async function quickchart(key) {\n",
              "      const quickchartButtonEl =\n",
              "        document.querySelector('#' + key + ' button');\n",
              "      quickchartButtonEl.disabled = true;  // To prevent multiple clicks.\n",
              "      quickchartButtonEl.classList.add('colab-df-spinner');\n",
              "      try {\n",
              "        const charts = await google.colab.kernel.invokeFunction(\n",
              "            'suggestCharts', [key], {});\n",
              "      } catch (error) {\n",
              "        console.error('Error during call to suggestCharts:', error);\n",
              "      }\n",
              "      quickchartButtonEl.classList.remove('colab-df-spinner');\n",
              "      quickchartButtonEl.classList.add('colab-df-quickchart-complete');\n",
              "    }\n",
              "    (() => {\n",
              "      let quickchartButtonEl =\n",
              "        document.querySelector('#df-a392c886-d249-4412-a50e-d6824d3da689 button');\n",
              "      quickchartButtonEl.style.display =\n",
              "        google.colab.kernel.accessAllowed ? 'block' : 'none';\n",
              "    })();\n",
              "  </script>\n",
              "</div>\n",
              "\n",
              "  <div id=\"id_abb0cc75-dc43-4d06-97ad-7b33a4239d05\">\n",
              "    <style>\n",
              "      .colab-df-generate {\n",
              "        background-color: #E8F0FE;\n",
              "        border: none;\n",
              "        border-radius: 50%;\n",
              "        cursor: pointer;\n",
              "        display: none;\n",
              "        fill: #1967D2;\n",
              "        height: 32px;\n",
              "        padding: 0 0 0 0;\n",
              "        width: 32px;\n",
              "      }\n",
              "\n",
              "      .colab-df-generate:hover {\n",
              "        background-color: #E2EBFA;\n",
              "        box-shadow: 0px 1px 2px rgba(60, 64, 67, 0.3), 0px 1px 3px 1px rgba(60, 64, 67, 0.15);\n",
              "        fill: #174EA6;\n",
              "      }\n",
              "\n",
              "      [theme=dark] .colab-df-generate {\n",
              "        background-color: #3B4455;\n",
              "        fill: #D2E3FC;\n",
              "      }\n",
              "\n",
              "      [theme=dark] .colab-df-generate:hover {\n",
              "        background-color: #434B5C;\n",
              "        box-shadow: 0px 1px 3px 1px rgba(0, 0, 0, 0.15);\n",
              "        filter: drop-shadow(0px 1px 2px rgba(0, 0, 0, 0.3));\n",
              "        fill: #FFFFFF;\n",
              "      }\n",
              "    </style>\n",
              "    <button class=\"colab-df-generate\" onclick=\"generateWithVariable('ghs')\"\n",
              "            title=\"Generate code using this dataframe.\"\n",
              "            style=\"display:none;\">\n",
              "\n",
              "  <svg xmlns=\"http://www.w3.org/2000/svg\" height=\"24px\"viewBox=\"0 0 24 24\"\n",
              "       width=\"24px\">\n",
              "    <path d=\"M7,19H8.4L18.45,9,17,7.55,7,17.6ZM5,21V16.75L18.45,3.32a2,2,0,0,1,2.83,0l1.4,1.43a1.91,1.91,0,0,1,.58,1.4,1.91,1.91,0,0,1-.58,1.4L9.25,21ZM18.45,9,17,7.55Zm-12,3A5.31,5.31,0,0,0,4.9,8.1,5.31,5.31,0,0,0,1,6.5,5.31,5.31,0,0,0,4.9,4.9,5.31,5.31,0,0,0,6.5,1,5.31,5.31,0,0,0,8.1,4.9,5.31,5.31,0,0,0,12,6.5,5.46,5.46,0,0,0,6.5,12Z\"/>\n",
              "  </svg>\n",
              "    </button>\n",
              "    <script>\n",
              "      (() => {\n",
              "      const buttonEl =\n",
              "        document.querySelector('#id_abb0cc75-dc43-4d06-97ad-7b33a4239d05 button.colab-df-generate');\n",
              "      buttonEl.style.display =\n",
              "        google.colab.kernel.accessAllowed ? 'block' : 'none';\n",
              "\n",
              "      buttonEl.onclick = () => {\n",
              "        google.colab.notebook.generateWithVariable('ghs');\n",
              "      }\n",
              "      })();\n",
              "    </script>\n",
              "  </div>\n",
              "\n",
              "    </div>\n",
              "  </div>\n"
            ],
            "application/vnd.google.colaboratory.intrinsic+json": {
              "type": "dataframe",
              "variable_name": "ghs"
            }
          },
          "metadata": {},
          "execution_count": 65
        }
      ]
    },
    {
      "cell_type": "code",
      "source": [
        "# check distribution of hazard types\n",
        "for column in ghs:\n",
        "    print(f\"Non-zero counts for '{column}':\", overalldf[column].sum())"
      ],
      "metadata": {
        "colab": {
          "base_uri": "https://localhost:8080/"
        },
        "id": "-ABjp3qikAOl",
        "outputId": "ab1656a2-a386-4744-f32f-fc9a12d6c189"
      },
      "execution_count": null,
      "outputs": [
        {
          "output_type": "stream",
          "name": "stdout",
          "text": [
            "Non-zero counts for 'explosive': 213\n",
            "Non-zero counts for 'flammable': 13350\n",
            "Non-zero counts for 'oxidizer': 438\n",
            "Non-zero counts for 'pressurized': 297\n",
            "Non-zero counts for 'corrosive': 35075\n",
            "Non-zero counts for 'toxic': 15711\n",
            "Non-zero counts for 'irritant': 187902\n",
            "Non-zero counts for 'health hazard': 16404\n",
            "Non-zero counts for 'environmental hazard': 18346\n"
          ]
        }
      ]
    },
    {
      "cell_type": "code",
      "source": [
        "# plot distribution\n",
        "overalldf[ghs.columns].sum().plot(kind='bar')\n",
        "plt.ylabel('Count')\n",
        "plt.title('Hazard Count Distribution')\n",
        "plt.show()"
      ],
      "metadata": {
        "colab": {
          "base_uri": "https://localhost:8080/",
          "height": 591
        },
        "id": "g9OmQ38itczi",
        "outputId": "8cfdc2d0-0fbb-4e01-adde-5287cdabafbf"
      },
      "execution_count": null,
      "outputs": [
        {
          "output_type": "display_data",
          "data": {
            "text/plain": [
              "<Figure size 640x480 with 1 Axes>"
            ],
            "image/png": "[encoded data removed]"
          },
          "metadata": {}
        }
      ]
    },
    {
      "cell_type": "code",
      "source": [
        "# corr data + heatmap\n",
        "corr = ghs.corr()\n",
        "sns.heatmap(corr, annot=True, cmap='coolwarm')\n",
        "# from the data, there is not much corr between different ghs types"
      ],
      "metadata": {
        "colab": {
          "base_uri": "https://localhost:8080/",
          "height": 592
        },
        "id": "tdiI1ycHs-IS",
        "outputId": "36806030-229e-4527-b83a-b4d6290d80c4"
      },
      "execution_count": null,
      "outputs": [
        {
          "output_type": "execute_result",
          "data": {
            "text/plain": [
              "<Axes: >"
            ]
          },
          "metadata": {},
          "execution_count": 78
        },
        {
          "output_type": "display_data",
          "data": {
            "text/plain": [
              "<Figure size 640x480 with 2 Axes>"
            ],
            "image/png": "[encoded data removed]"
          },
          "metadata": {}
        }
      ]
    }
  ],
  "metadata": {
    "colab": {
      "provenance": []
    },
    "kernelspec": {
      "display_name": "Python 3",
      "name": "python3"
    },
    "language_info": {
      "name": "python"
    }
  },
  "nbformat": 4,
  "nbformat_minor": 0
}