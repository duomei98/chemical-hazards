{
 "cells": [
  {
   "cell_type": "markdown",
   "source": [
    "## Machine Learning Models"
   ],
   "metadata": {
    "collapsed": false,
    "pycharm": {
     "name": "#%% md\n"
    }
   }
  },
  {
   "cell_type": "markdown",
   "source": [
    "Libraries that need to be installed are:\n",
    "- Pytorch\n",
    "- Deepchem\n",
    "- transformers (if the error shows)"
   ],
   "metadata": {
    "collapsed": false,
    "pycharm": {
     "name": "#%% md\n"
    }
   }
  },
  {
   "cell_type": "code",
   "execution_count": null,
   "outputs": [],
   "source": [
    "# !pip install torch\n",
    "# !pip install deepchem\n",
    "# !pip install transformers"
   ],
   "metadata": {
    "collapsed": false,
    "pycharm": {
     "name": "#%%\n",
     "is_executing": true
    }
   }
  },
  {
   "cell_type": "code",
   "execution_count": 25,
   "outputs": [],
   "source": [
    "import pandas as pd\n",
    "import numpy as np\n",
    "from deepchem.feat.smiles_tokenizer import BasicSmilesTokenizer"
   ],
   "metadata": {
    "collapsed": false,
    "pycharm": {
     "name": "#%%\n"
    }
   }
  },
  {
   "cell_type": "markdown",
   "source": [
    "Data is read from a csv of the overalldf dataframe exported from the milestones notebook"
   ],
   "metadata": {
    "collapsed": false,
    "pycharm": {
     "name": "#%% md\n"
    }
   }
  },
  {
   "cell_type": "code",
   "execution_count": 29,
   "outputs": [
    {
     "data": {
      "text/plain": "              CID                                             SMILES  \\\n0               4                                            CC(CN)O   \n1               6          C1=CC(=C(C=C1[N+](=O)[O-])[N+](=O)[O-])Cl   \n2               8                                CCC(C)(C(C(=O)O)O)O   \n3              11                                           C(CCl)Cl   \n4              12                              C1=C(C=C(C(=C1O)O)O)O   \n...           ...                                                ...   \n223255  171395742  CC1(C2CCC1(C(=O)C2=C(C(F)(F)F)[O-])C)C.CC1(C2C...   \n223256  171395937       CCCN1CC(CC2C1CC3=CNC4=CC=CC2=C34)CS(=O)(=O)C   \n223257  171395972                 C1=NC(=NN1C2C(C(C(O2)CO)O)O)C(=O)O   \n223258  171396137                 CC(C)[O-].CC(C)[O-].CC(C)[O-].[Fe]   \n223259  171396387                     C=CC(=O)[O-].C=CC(=O)[O-].[Cu]   \n\n        explosive  flammable  oxidizer  pressurized  corrosive  toxic  \\\n0               0          0         0            0          1      0   \n1               0          0         0            0          1      1   \n2               0          0         0            0          0      0   \n3               0          1         0            0          0      1   \n4               0          0         0            0          1      0   \n...           ...        ...       ...          ...        ...    ...   \n223255          0          0         0            0          0      0   \n223256          0          0         0            0          0      0   \n223257          0          0         0            0          0      1   \n223258          0          1         0            0          0      0   \n223259          0          0         0            0          0      0   \n\n        irritant  health hazard  environmental hazard  \n0              1              0                     0  \n1              1              1                     1  \n2              1              0                     0  \n3              1              1                     1  \n4              1              0                     0  \n...          ...            ...                   ...  \n223255         1              0                     0  \n223256         1              0                     0  \n223257         0              0                     0  \n223258         1              0                     0  \n223259         1              0                     0  \n\n[223260 rows x 11 columns]",
      "text/html": "<div>\n<style scoped>\n    .dataframe tbody tr th:only-of-type {\n        vertical-align: middle;\n    }\n\n    .dataframe tbody tr th {\n        vertical-align: top;\n    }\n\n    .dataframe thead th {\n        text-align: right;\n    }\n</style>\n<table border=\"1\" class=\"dataframe\">\n  <thead>\n    <tr style=\"text-align: right;\">\n      <th></th>\n      <th>CID</th>\n      <th>SMILES</th>\n      <th>explosive</th>\n      <th>flammable</th>\n      <th>oxidizer</th>\n      <th>pressurized</th>\n      <th>corrosive</th>\n      <th>toxic</th>\n      <th>irritant</th>\n      <th>health hazard</th>\n      <th>environmental hazard</th>\n    </tr>\n  </thead>\n  <tbody>\n    <tr>\n      <th>0</th>\n      <td>4</td>\n      <td>CC(CN)O</td>\n      <td>0</td>\n      <td>0</td>\n      <td>0</td>\n      <td>0</td>\n      <td>1</td>\n      <td>0</td>\n      <td>1</td>\n      <td>0</td>\n      <td>0</td>\n    </tr>\n    <tr>\n      <th>1</th>\n      <td>6</td>\n      <td>C1=CC(=C(C=C1[N+](=O)[O-])[N+](=O)[O-])Cl</td>\n      <td>0</td>\n      <td>0</td>\n      <td>0</td>\n      <td>0</td>\n      <td>1</td>\n      <td>1</td>\n      <td>1</td>\n      <td>1</td>\n      <td>1</td>\n    </tr>\n    <tr>\n      <th>2</th>\n      <td>8</td>\n      <td>CCC(C)(C(C(=O)O)O)O</td>\n      <td>0</td>\n      <td>0</td>\n      <td>0</td>\n      <td>0</td>\n      <td>0</td>\n      <td>0</td>\n      <td>1</td>\n      <td>0</td>\n      <td>0</td>\n    </tr>\n    <tr>\n      <th>3</th>\n      <td>11</td>\n      <td>C(CCl)Cl</td>\n      <td>0</td>\n      <td>1</td>\n      <td>0</td>\n      <td>0</td>\n      <td>0</td>\n      <td>1</td>\n      <td>1</td>\n      <td>1</td>\n      <td>1</td>\n    </tr>\n    <tr>\n      <th>4</th>\n      <td>12</td>\n      <td>C1=C(C=C(C(=C1O)O)O)O</td>\n      <td>0</td>\n      <td>0</td>\n      <td>0</td>\n      <td>0</td>\n      <td>1</td>\n      <td>0</td>\n      <td>1</td>\n      <td>0</td>\n      <td>0</td>\n    </tr>\n    <tr>\n      <th>...</th>\n      <td>...</td>\n      <td>...</td>\n      <td>...</td>\n      <td>...</td>\n      <td>...</td>\n      <td>...</td>\n      <td>...</td>\n      <td>...</td>\n      <td>...</td>\n      <td>...</td>\n      <td>...</td>\n    </tr>\n    <tr>\n      <th>223255</th>\n      <td>171395742</td>\n      <td>CC1(C2CCC1(C(=O)C2=C(C(F)(F)F)[O-])C)C.CC1(C2C...</td>\n      <td>0</td>\n      <td>0</td>\n      <td>0</td>\n      <td>0</td>\n      <td>0</td>\n      <td>0</td>\n      <td>1</td>\n      <td>0</td>\n      <td>0</td>\n    </tr>\n    <tr>\n      <th>223256</th>\n      <td>171395937</td>\n      <td>CCCN1CC(CC2C1CC3=CNC4=CC=CC2=C34)CS(=O)(=O)C</td>\n      <td>0</td>\n      <td>0</td>\n      <td>0</td>\n      <td>0</td>\n      <td>0</td>\n      <td>0</td>\n      <td>1</td>\n      <td>0</td>\n      <td>0</td>\n    </tr>\n    <tr>\n      <th>223257</th>\n      <td>171395972</td>\n      <td>C1=NC(=NN1C2C(C(C(O2)CO)O)O)C(=O)O</td>\n      <td>0</td>\n      <td>0</td>\n      <td>0</td>\n      <td>0</td>\n      <td>0</td>\n      <td>1</td>\n      <td>0</td>\n      <td>0</td>\n      <td>0</td>\n    </tr>\n    <tr>\n      <th>223258</th>\n      <td>171396137</td>\n      <td>CC(C)[O-].CC(C)[O-].CC(C)[O-].[Fe]</td>\n      <td>0</td>\n      <td>1</td>\n      <td>0</td>\n      <td>0</td>\n      <td>0</td>\n      <td>0</td>\n      <td>1</td>\n      <td>0</td>\n      <td>0</td>\n    </tr>\n    <tr>\n      <th>223259</th>\n      <td>171396387</td>\n      <td>C=CC(=O)[O-].C=CC(=O)[O-].[Cu]</td>\n      <td>0</td>\n      <td>0</td>\n      <td>0</td>\n      <td>0</td>\n      <td>0</td>\n      <td>0</td>\n      <td>1</td>\n      <td>0</td>\n      <td>0</td>\n    </tr>\n  </tbody>\n</table>\n<p>223260 rows × 11 columns</p>\n</div>"
     },
     "execution_count": 29,
     "metadata": {},
     "output_type": "execute_result"
    }
   ],
   "source": [
    "# Recreate overall dataframe of our data\n",
    "\n",
    "overalldf = pd.read_csv(\"final-data-csv.csv\")\n",
    "overalldf"
   ],
   "metadata": {
    "collapsed": false,
    "pycharm": {
     "name": "#%%\n"
    }
   }
  },
  {
   "cell_type": "code",
   "execution_count": 30,
   "outputs": [
    {
     "data": {
      "text/plain": "              CID                                             SMILES  \\\n0               4                                            CC(CN)O   \n1               6          C1=CC(=C(C=C1[N+](=O)[O-])[N+](=O)[O-])Cl   \n2               8                                CCC(C)(C(C(=O)O)O)O   \n3              11                                           C(CCl)Cl   \n4              12                              C1=C(C=C(C(=C1O)O)O)O   \n...           ...                                                ...   \n223255  171395742  CC1(C2CCC1(C(=O)C2=C(C(F)(F)F)[O-])C)C.CC1(C2C...   \n223256  171395937       CCCN1CC(CC2C1CC3=CNC4=CC=CC2=C34)CS(=O)(=O)C   \n223257  171395972                 C1=NC(=NN1C2C(C(C(O2)CO)O)O)C(=O)O   \n223258  171396137                 CC(C)[O-].CC(C)[O-].CC(C)[O-].[Fe]   \n223259  171396387                     C=CC(=O)[O-].C=CC(=O)[O-].[Cu]   \n\n                                         Tokenized_SMILES  explosive  \\\n0                                   [C, C, (, C, N, ), O]          0   \n1       [C, 1, =, C, C, (, =, C, (, C, =, C, 1, [N+], ...          0   \n2       [C, C, C, (, C, ), (, C, (, C, (, =, O, ), O, ...          0   \n3                                    [C, (, C, Cl, ), Cl]          0   \n4       [C, 1, =, C, (, C, =, C, (, C, (, =, C, 1, O, ...          0   \n...                                                   ...        ...   \n223255  [C, C, 1, (, C, 2, C, C, C, 1, (, C, (, =, O, ...          0   \n223256  [C, C, C, N, 1, C, C, (, C, C, 2, C, 1, C, C, ...          0   \n223257  [C, 1, =, N, C, (, =, N, N, 1, C, 2, C, (, C, ...          0   \n223258  [C, C, (, C, ), [O-], ., C, C, (, C, ), [O-], ...          0   \n223259  [C, =, C, C, (, =, O, ), [O-], ., C, =, C, C, ...          0   \n\n        flammable  oxidizer  pressurized  corrosive  toxic  irritant  \\\n0               0         0            0          1      0         1   \n1               0         0            0          1      1         1   \n2               0         0            0          0      0         1   \n3               1         0            0          0      1         1   \n4               0         0            0          1      0         1   \n...           ...       ...          ...        ...    ...       ...   \n223255          0         0            0          0      0         1   \n223256          0         0            0          0      0         1   \n223257          0         0            0          0      1         0   \n223258          1         0            0          0      0         1   \n223259          0         0            0          0      0         1   \n\n        health hazard  environmental hazard  \n0                   0                     0  \n1                   1                     1  \n2                   0                     0  \n3                   1                     1  \n4                   0                     0  \n...               ...                   ...  \n223255              0                     0  \n223256              0                     0  \n223257              0                     0  \n223258              0                     0  \n223259              0                     0  \n\n[223260 rows x 12 columns]",
      "text/html": "<div>\n<style scoped>\n    .dataframe tbody tr th:only-of-type {\n        vertical-align: middle;\n    }\n\n    .dataframe tbody tr th {\n        vertical-align: top;\n    }\n\n    .dataframe thead th {\n        text-align: right;\n    }\n</style>\n<table border=\"1\" class=\"dataframe\">\n  <thead>\n    <tr style=\"text-align: right;\">\n      <th></th>\n      <th>CID</th>\n      <th>SMILES</th>\n      <th>Tokenized_SMILES</th>\n      <th>explosive</th>\n      <th>flammable</th>\n      <th>oxidizer</th>\n      <th>pressurized</th>\n      <th>corrosive</th>\n      <th>toxic</th>\n      <th>irritant</th>\n      <th>health hazard</th>\n      <th>environmental hazard</th>\n    </tr>\n  </thead>\n  <tbody>\n    <tr>\n      <th>0</th>\n      <td>4</td>\n      <td>CC(CN)O</td>\n      <td>[C, C, (, C, N, ), O]</td>\n      <td>0</td>\n      <td>0</td>\n      <td>0</td>\n      <td>0</td>\n      <td>1</td>\n      <td>0</td>\n      <td>1</td>\n      <td>0</td>\n      <td>0</td>\n    </tr>\n    <tr>\n      <th>1</th>\n      <td>6</td>\n      <td>C1=CC(=C(C=C1[N+](=O)[O-])[N+](=O)[O-])Cl</td>\n      <td>[C, 1, =, C, C, (, =, C, (, C, =, C, 1, [N+], ...</td>\n      <td>0</td>\n      <td>0</td>\n      <td>0</td>\n      <td>0</td>\n      <td>1</td>\n      <td>1</td>\n      <td>1</td>\n      <td>1</td>\n      <td>1</td>\n    </tr>\n    <tr>\n      <th>2</th>\n      <td>8</td>\n      <td>CCC(C)(C(C(=O)O)O)O</td>\n      <td>[C, C, C, (, C, ), (, C, (, C, (, =, O, ), O, ...</td>\n      <td>0</td>\n      <td>0</td>\n      <td>0</td>\n      <td>0</td>\n      <td>0</td>\n      <td>0</td>\n      <td>1</td>\n      <td>0</td>\n      <td>0</td>\n    </tr>\n    <tr>\n      <th>3</th>\n      <td>11</td>\n      <td>C(CCl)Cl</td>\n      <td>[C, (, C, Cl, ), Cl]</td>\n      <td>0</td>\n      <td>1</td>\n      <td>0</td>\n      <td>0</td>\n      <td>0</td>\n      <td>1</td>\n      <td>1</td>\n      <td>1</td>\n      <td>1</td>\n    </tr>\n    <tr>\n      <th>4</th>\n      <td>12</td>\n      <td>C1=C(C=C(C(=C1O)O)O)O</td>\n      <td>[C, 1, =, C, (, C, =, C, (, C, (, =, C, 1, O, ...</td>\n      <td>0</td>\n      <td>0</td>\n      <td>0</td>\n      <td>0</td>\n      <td>1</td>\n      <td>0</td>\n      <td>1</td>\n      <td>0</td>\n      <td>0</td>\n    </tr>\n    <tr>\n      <th>...</th>\n      <td>...</td>\n      <td>...</td>\n      <td>...</td>\n      <td>...</td>\n      <td>...</td>\n      <td>...</td>\n      <td>...</td>\n      <td>...</td>\n      <td>...</td>\n      <td>...</td>\n      <td>...</td>\n      <td>...</td>\n    </tr>\n    <tr>\n      <th>223255</th>\n      <td>171395742</td>\n      <td>CC1(C2CCC1(C(=O)C2=C(C(F)(F)F)[O-])C)C.CC1(C2C...</td>\n      <td>[C, C, 1, (, C, 2, C, C, C, 1, (, C, (, =, O, ...</td>\n      <td>0</td>\n      <td>0</td>\n      <td>0</td>\n      <td>0</td>\n      <td>0</td>\n      <td>0</td>\n      <td>1</td>\n      <td>0</td>\n      <td>0</td>\n    </tr>\n    <tr>\n      <th>223256</th>\n      <td>171395937</td>\n      <td>CCCN1CC(CC2C1CC3=CNC4=CC=CC2=C34)CS(=O)(=O)C</td>\n      <td>[C, C, C, N, 1, C, C, (, C, C, 2, C, 1, C, C, ...</td>\n      <td>0</td>\n      <td>0</td>\n      <td>0</td>\n      <td>0</td>\n      <td>0</td>\n      <td>0</td>\n      <td>1</td>\n      <td>0</td>\n      <td>0</td>\n    </tr>\n    <tr>\n      <th>223257</th>\n      <td>171395972</td>\n      <td>C1=NC(=NN1C2C(C(C(O2)CO)O)O)C(=O)O</td>\n      <td>[C, 1, =, N, C, (, =, N, N, 1, C, 2, C, (, C, ...</td>\n      <td>0</td>\n      <td>0</td>\n      <td>0</td>\n      <td>0</td>\n      <td>0</td>\n      <td>1</td>\n      <td>0</td>\n      <td>0</td>\n      <td>0</td>\n    </tr>\n    <tr>\n      <th>223258</th>\n      <td>171396137</td>\n      <td>CC(C)[O-].CC(C)[O-].CC(C)[O-].[Fe]</td>\n      <td>[C, C, (, C, ), [O-], ., C, C, (, C, ), [O-], ...</td>\n      <td>0</td>\n      <td>1</td>\n      <td>0</td>\n      <td>0</td>\n      <td>0</td>\n      <td>0</td>\n      <td>1</td>\n      <td>0</td>\n      <td>0</td>\n    </tr>\n    <tr>\n      <th>223259</th>\n      <td>171396387</td>\n      <td>C=CC(=O)[O-].C=CC(=O)[O-].[Cu]</td>\n      <td>[C, =, C, C, (, =, O, ), [O-], ., C, =, C, C, ...</td>\n      <td>0</td>\n      <td>0</td>\n      <td>0</td>\n      <td>0</td>\n      <td>0</td>\n      <td>0</td>\n      <td>1</td>\n      <td>0</td>\n      <td>0</td>\n    </tr>\n  </tbody>\n</table>\n<p>223260 rows × 12 columns</p>\n</div>"
     },
     "execution_count": 30,
     "metadata": {},
     "output_type": "execute_result"
    }
   ],
   "source": [
    "# Create SMILES tokenizer\n",
    "\n",
    "tokenizer = BasicSmilesTokenizer()\n",
    "tokenized_list = []\n",
    "\n",
    "for smile in overalldf[\"SMILES\"]:\n",
    "    tokenized_list.append(tokenizer.tokenize(smile))\n",
    "\n",
    "# Add new column with tokenized SMILES to the dataframe\n",
    "overalldf.insert(2, \"Tokenized_SMILES\", tokenized_list, False)\n",
    "overalldf"
   ],
   "metadata": {
    "collapsed": false,
    "pycharm": {
     "name": "#%%\n"
    }
   }
  },
  {
   "cell_type": "code",
   "execution_count": 31,
   "outputs": [],
   "source": [
    "# Vectorize tokenized SMILES\n",
    "from sklearn.feature_extraction.text import TfidfVectorizer\n",
    "\n",
    "X = overalldf[\"Tokenized_SMILES\"]\n",
    "y = np.asarray((overalldf[overalldf.columns[3:]]))\n",
    "\n",
    "vectorizer = TfidfVectorizer(analyzer=lambda x:x)\n",
    "X = vectorizer.fit_transform(X)"
   ],
   "metadata": {
    "collapsed": false,
    "pycharm": {
     "name": "#%%\n"
    }
   }
  },
  {
   "cell_type": "code",
   "execution_count": 32,
   "outputs": [
    {
     "name": "stdout",
     "output_type": "stream",
     "text": [
      "[[0 0 0 ... 1 0 0]\n",
      " [0 0 0 ... 1 0 0]\n",
      " [0 0 0 ... 1 0 0]\n",
      " ...\n",
      " [0 0 0 ... 1 0 0]\n",
      " [0 0 0 ... 1 0 0]\n",
      " [0 0 0 ... 1 0 0]]\n",
      "Test Accuracy Score: 0.6025038072202813\n",
      "Train Accuracy Score: 0.5985678133118337\n",
      "              precision    recall  f1-score   support\n",
      "\n",
      "           0       0.14      0.03      0.05        36\n",
      "           1       0.48      0.11      0.18      2633\n",
      "           2       1.00      0.27      0.43        85\n",
      "           3       0.67      0.03      0.05        72\n",
      "           4       0.45      0.04      0.07      7015\n",
      "           5       0.66      0.05      0.08      3116\n",
      "           6       0.85      0.99      0.92     37787\n",
      "           7       0.75      0.06      0.11      3246\n",
      "           8       0.65      0.04      0.08      3611\n",
      "\n",
      "   micro avg       0.84      0.67      0.74     57601\n",
      "   macro avg       0.63      0.18      0.22     57601\n",
      "weighted avg       0.76      0.67      0.63     57601\n",
      " samples avg       0.84      0.72      0.76     57601\n",
      "\n"
     ]
    },
    {
     "name": "stderr",
     "output_type": "stream",
     "text": [
      "C:\\Users\\ev3st\\anaconda3\\lib\\site-packages\\sklearn\\metrics\\_classification.py:1318: UndefinedMetricWarning: Precision and F-score are ill-defined and being set to 0.0 in samples with no predicted labels. Use `zero_division` parameter to control this behavior.\n",
      "  _warn_prf(average, modifier, msg_start, len(result))\n",
      "C:\\Users\\ev3st\\anaconda3\\lib\\site-packages\\sklearn\\metrics\\_classification.py:1318: UndefinedMetricWarning: Recall and F-score are ill-defined and being set to 0.0 in samples with no true labels. Use `zero_division` parameter to control this behavior.\n",
      "  _warn_prf(average, modifier, msg_start, len(result))\n"
     ]
    }
   ],
   "source": [
    "# Split training and test data\n",
    "from sklearn.model_selection import train_test_split\n",
    "\n",
    "X_train, X_test, y_train, y_test = train_test_split(X, y, test_size = 0.2)\n",
    "\n",
    "# Perform multilabel classification with Logistic Regression\n",
    "from sklearn.multioutput import MultiOutputClassifier\n",
    "from sklearn.linear_model import LogisticRegression\n",
    "from sklearn.metrics import accuracy_score\n",
    "from sklearn.metrics import classification_report\n",
    "\n",
    "model = MultiOutputClassifier(LogisticRegression(max_iter= 300000)).fit(X_train, y_train)\n",
    "yhat_test = model.predict(X_test)\n",
    "yhat_train = model.predict(X_train)\n",
    "print(yhat_test)\n",
    "\n",
    "print(f\"Test Accuracy Score: {accuracy_score(y_test, yhat_test)}\")\n",
    "print(f\"Train Accuracy Score: {accuracy_score(y_train, yhat_train)}\")\n",
    "print(classification_report(y_test, yhat_test))\n"
   ],
   "metadata": {
    "collapsed": false,
    "pycharm": {
     "name": "#%%\n"
    }
   }
  },
  {
   "cell_type": "code",
   "execution_count": null,
   "outputs": [],
   "source": [],
   "metadata": {
    "collapsed": false,
    "pycharm": {
     "name": "#%%\n"
    }
   }
  }
 ],
 "metadata": {
  "kernelspec": {
   "display_name": "Python 3",
   "language": "python",
   "name": "python3"
  },
  "language_info": {
   "codemirror_mode": {
    "name": "ipython",
    "version": 2
   },
   "file_extension": ".py",
   "mimetype": "text/x-python",
   "name": "python",
   "nbconvert_exporter": "python",
   "pygments_lexer": "ipython2",
   "version": "2.7.6"
  }
 },
 "nbformat": 4,
 "nbformat_minor": 0
}